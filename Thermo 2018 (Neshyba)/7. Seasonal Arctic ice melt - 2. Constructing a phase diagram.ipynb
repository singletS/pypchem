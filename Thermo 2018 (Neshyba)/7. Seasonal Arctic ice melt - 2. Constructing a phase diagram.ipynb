{
 "cells": [
  {
   "cell_type": "markdown",
   "metadata": {},
   "source": [
    "## Computational Guided Inquiry for Polar Research (2018)\n",
    "\n",
    "## Seasonal Arctic ice melt - 2. Constructing a phase diagram\n",
    "\n",
    "### Activity overview  \n",
    "1. Construct a phase diagram of water\n",
    "3. Compute the heat required for seasonal melt of Arctic sea ice\n",
    "\n",
    "### Pre-class activities\n",
    "\n",
    "1. Read the Introduction.\n",
    "3. Look up and record literature values of the $\\Delta H_{fus}$, $\\Delta H_{vap}$, and $\\Delta H_{vap}$ for water, in SI units. \n",
    "4. Use calculus to derive the Thomson and Clausius-Clapeyron equations from the Clapeyron equation.\n"
   ]
  },
  {
   "cell_type": "markdown",
   "metadata": {},
   "source": [
    "## Introduction\n",
    "\n",
    "_Climate connection_  \n",
    "We have argued that human activity has changed the pattern of sea ice melt in the Arctic through the qualitative idea of ice-albedo feedback. Confidence in making predictions about the future requires quantitative treatment as well. In this CGI, you will explore this idea in two ways. First, you will estimate how _much_ energy is required to effect the seasonal melt of Arctic ice from April to September. Secondly, you will construct a phase diagram of water based on fundamental thermodynamic properties of water.  "
   ]
  },
  {
   "cell_type": "markdown",
   "metadata": {},
   "source": [
    "_Thermodynamics of freezing and melting_  \n",
    "We have already seen data that tells us the volume change during the seasonal melt of Arctic ice. To get at the energy required to melt that much ice, we'll eventually need to know the amount of ice that melts. As a first step, you can convert the volume melted to a mass using \n",
    "\n",
    "<p style = 'text-align: right;'>\n",
    "$ m = V \\times \\rho$\n",
    "$\\qquad\\qquad\\qquad\\qquad\\qquad\\qquad\\qquad\\qquad\\qquad\\qquad (1) $\n",
    "</p>\n",
    "\n",
    "where $\\rho$ is the mass density. Values of $\\rho$ for pure water and ice are given below. Next, we want to get at the _amount_ of ice, where the term _amount_ is used here in the chemical sense to indicate the number of water molecules. As you probably already know, the SI unit for amount used in chemistry is _moles_, usually given the symbol $n$, and standard enthalpies are often given in $kJ/mol$. To convert mass to moles, you can use\n",
    "\n",
    "<p style = 'text-align: right;'>\n",
    "$ n = m / M$\n",
    "$\\qquad\\qquad\\qquad\\qquad\\qquad\\qquad\\qquad\\qquad\\qquad\\qquad (2) $\n",
    "</p>\n",
    "\n",
    "where $M$ is the molar mass. The value of $M$ for water, in SI units, is 0.018 kg/mol. So, if you know the amount ($n$) of ice you have, then you can compute the heat required to melt it by multiplying by $\\Delta H_{fus}$."
   ]
  },
  {
   "cell_type": "markdown",
   "metadata": {},
   "source": [
    "_Phase Diagrams_  \n",
    "Figure 1 shows a phase diagram of pure water.\n",
    "\n",
    "<p style ='text-align: center;'>\n",
    "<img src=\"https://opentextbc.ca/chemistry/wp-content/uploads/sites/150/2016/05/CNX_Chem_10_04_H2OPhasDi2.jpg\" height=\"300\" width=\"600\"/> \n",
    "Figure 1. Phase diagram of water.\n",
    "</p>\n"
   ]
  },
  {
   "cell_type": "markdown",
   "metadata": {},
   "source": [
    "The lines in a phase diagram are called _phase boundaries_, and the point of intersection between all three phase boundaries is called the _triple point_. Phase diagrams are generally constructed from observations, but it turns out that a useful analytical tool for understanding them is the _Clapeyron equation_,\n",
    "\n",
    "<p style = 'text-align: right;'>\n",
    "$ \\dfrac{dP}{dT} = \\dfrac{\\Delta H}{T\\Delta V}$\n",
    "$\\qquad\\qquad\\qquad\\qquad\\qquad\\qquad\\qquad\\qquad\\qquad\\qquad (3) $\n",
    "</p>\n",
    "\n",
    "which gives the slope of a line along a phase boundary. The \"$\\Delta$\" terms in this equation refer to the transition itself. For example, if one were interested in the liquid-solid phase boundary, then $\\Delta H$ and $\\Delta V$ would be $\\Delta H_{fus}$ and $\\Delta V_{fus}$. We'll assume in this project that these are _molar_ values, i.e., $\\Delta H_{fus}$ is the enthalpy of fusion of one mole of a substance. \n",
    "\n",
    "The Clapeyron equation is quite general, but a problem with it is that it gives only the _slope_ of the phase boundary. Often it's useful to have expressions for the line itself, which means one must obtain the definite integral of this equation. In doing so, different assumptions come into play, according to the type of transition one is considering. We'll take these up one by one. \n"
   ]
  },
  {
   "cell_type": "markdown",
   "metadata": {},
   "source": [
    "For the _solid-liquid phase boundary_, we could set up the integration as follows:\n",
    "\n",
    "<p style = 'text-align: right;'>\n",
    "$ \\int_{P_3}^{P_{ice/liq}^*} {dP} = \\int_{T_3}^T \\dfrac{\\Delta H}{T\\Delta V} dT $\n",
    "$\\qquad\\qquad\\qquad\\qquad\\qquad\\qquad\\qquad\\qquad\\qquad\\qquad (4) $\n",
    "</p>\n",
    "\n",
    "where we've specified definite integrals with a reference point being the triple-point pressure and temperature. That's usually a good choice because triple points of substances are accurately known. Note also that we've written the upper integration limit on the left as $P_{ice/liq}^*$. The asterisk is meant to emphasize that this phase boundary occurs under equilibrium conditions between pure ice and pure liquid water.\n",
    "\n",
    "To solve this equation, we can note that the left-hand-side integral is quite straighforward, and equals $ \\Delta P = P_{ice/liq}^* - P_3$. For the right-hand-side, we can make the approximation that the volume of liquids and solids are largely independent of temperature, so we can bring those terms out of the integral, $\\int_{T_3}^T \\dfrac{\\Delta H}{T\\Delta V} dT \\approx \\dfrac{\\Delta H}{\\Delta V} \\int_{T_3}^T  \\dfrac{dT}T $. Since the indefinite integral of $1/T$ is $ln(T)$, we obtain \n",
    "\n",
    "<p style = 'text-align: right;'>\n",
    "$ P_{ice/liq}^* = P_3 + \\dfrac{\\Delta H}{\\Delta V} ln(\\dfrac T {T_3}) $\n",
    "$\\qquad\\qquad\\qquad\\qquad\\qquad\\qquad\\qquad\\qquad\\qquad\\qquad (5) $\n",
    "</p>\n",
    "\n",
    "which is called the _Thomson equation_. Retracing the steps leading to the Thomson equation will be left as an exercise for you.\n"
   ]
  },
  {
   "cell_type": "markdown",
   "metadata": {},
   "source": [
    "For the _liquid-vapor phase boundary_, it's a good approximation to say that $\\Delta V_{vap} = V_{gas}-V_{liquid} \\approx  V_{gas}$ (since gases typically take up much more space than liquids), and to make the further appoximation that $V_{gas} \\approx RT/P$ (the ideal gas approximation). Then you'll need to rearrange the Clapeyron equation so that variables are separated, and integrate. For the starting point of the integrals, we'll use the triple point pressure and temperature. For the ending point of the integrals, we'll use the notation $P_{liq/vap}^*$. The integrated result is called the _Clausius-Clapeyron Equation_ for liquid-vapor equilibrium. Similar considerations apply to the solid-vapor equilibrium, with appropriate changes (i.e., $\\Delta V_{sub} \\approx V_{gas} \\approx RT/P$). The integrated result is also called a Clausius-Clapeyron equation, with $\\Delta H_{sub}$ instead $\\Delta H_{vap}$, and $P_{ice/vap}^*$ instead of $P_{liq/vap}^*$. These derivations will also be left as an exercise for you.\n"
   ]
  },
  {
   "cell_type": "markdown",
   "metadata": {},
   "source": [
    "In this exercise, you'll construct a phase diagram (Pressure vs Temperature) of water. We've done the solid-liquid phase boundary for you to see as an example; that means you'll only need to worry about the Clausius-Clapeyron for the liquid-gas and solid-gas phase boundaries. Relevant values for water, in SI units, are as follows.\n",
    "\n",
    "Molar mass:  \n",
    "$ M = 0.018 \\space kg/mol $  \n",
    "\n",
    "Densities of solid water (ice) and liquid water:  \n",
    "$ \\rho_{solid} = 9.17 \\times 10^2 \\space  kg/m^3 $  \n",
    "$ \\rho_{liquid} = 1.00 \\times 10^3 \\space kg/m^3 $  \n",
    "\n",
    "Triple point pressure and temperature:  \n",
    "$ P_3 = 611.7 \\space Pa $  \n",
    "$ T_3 = 273.16 \\space K $  \n",
    "\n",
    "Enthalpies of phase transitions:  \n",
    "$ \\Delta H_{vap} = 44.0 \\space kJ/mol $    \n",
    "$ \\Delta H_{sub} = 50.0 \\space kJ/mol $   \n",
    "$ \\Delta H_{fus} = 6.0 \\space kJ/mol $  \n",
    "\n",
    "One more equation that should come in handy is the relationship between the mass density and the molar volume, designated $V_M$, which is the volume of one mole of a substance. The relationship is \n",
    "\n",
    "<p style = 'text-align: right;'>\n",
    "$ V_M = M / \\rho$\n",
    "$\\qquad\\qquad\\qquad\\qquad\\qquad\\qquad\\qquad\\qquad\\qquad\\qquad (6) $\n",
    "</p>\n"
   ]
  },
  {
   "cell_type": "code",
   "execution_count": 1,
   "metadata": {},
   "outputs": [],
   "source": [
    "# Load packages\n",
    "from numpy import *\n",
    "from matplotlib.pyplot import *\n",
    "from mpl_toolkits.mplot3d import axes3d\n",
    "%matplotlib notebook"
   ]
  },
  {
   "cell_type": "markdown",
   "metadata": {},
   "source": [
    "### Part I. Computing the heat required for seasonal ice melt"
   ]
  },
  {
   "cell_type": "markdown",
   "metadata": {},
   "source": [
    "From previous work, we found that typical seasonal ice melt was about 19000 $km^3$. Calculate the heat (Joules) needed to melt that much ice."
   ]
  },
  {
   "cell_type": "code",
   "execution_count": 2,
   "metadata": {},
   "outputs": [],
   "source": [
    "# Specify constants, in SI units\n",
    "rho_ice = 9.7e2 # Density, in SI units, kg/m^3\n",
    "M = 0.018 # Molar mass, in kg/mol\n",
    "Hfus = 6000 # Joules/mol"
   ]
  },
  {
   "cell_type": "code",
   "execution_count": 3,
   "metadata": {},
   "outputs": [
    {
     "name": "stdout",
     "output_type": "stream",
     "text": [
      "Heat needed for seasonal melt (J) =  6.143333333333334e+21\n"
     ]
    }
   ],
   "source": [
    "# Estimate the change in ice volume, mass, and amount. \n",
    "Ice_volume_change = 19000*1e9 # Converted to m^3\n",
    "Ice_mass_change = Ice_volume_change*rho_ice # In kg\n",
    "Ice_amount_change = Ice_mass_change/M # In mol\n",
    "\n",
    "# Now use the molar enthalpy of fusion to compute the heat \n",
    "q = Hfus*Ice_amount_change\n",
    "print ('Heat needed for seasonal melt (J) = ', q)"
   ]
  },
  {
   "cell_type": "markdown",
   "metadata": {},
   "source": [
    "### Pause for analysis\n",
    "\n",
    "Any insight into these results? The heat you obtained for seasonal melt might seem like a pretty big number to you, but for comparison, it may be of interest to compare to the _total_ amount of solar energy hitting the earth in a similar time frame (see, e.g., https://www.svssolutions.com/blog/ten-solar-facts-to-brighten-your-day). "
   ]
  },
  {
   "cell_type": "markdown",
   "metadata": {},
   "source": [
    "### Part II. Constructing a phase diagram of water"
   ]
  },
  {
   "cell_type": "markdown",
   "metadata": {},
   "source": [
    "First we'll take care of the ice/liquid equilibrium"
   ]
  },
  {
   "cell_type": "code",
   "execution_count": 4,
   "metadata": {},
   "outputs": [],
   "source": [
    "# Specify additional constants, in SI units\n",
    "rho_liquid = 1.00e3 # density of water kg/m^3\n",
    "P3 = 611.7 # Triple point pressure, pascals\n",
    "T3 = 273.16 # Triple point temperature, kelvin\n",
    "Hvap = 44000 # Joules/mol\n",
    "Hsub = 50000 # Joules/mol\n",
    "R = 8.314 # J/mol-K"
   ]
  },
  {
   "cell_type": "code",
   "execution_count": 5,
   "metadata": {},
   "outputs": [
    {
     "data": {
      "text/plain": [
       "Text(0.5,1,'Ice/liquid phase boundary')"
      ]
     },
     "execution_count": 5,
     "metadata": {},
     "output_type": "execute_result"
    },
    {
     "data": {
      "image/png": "[encoded data removed]",
      "text/plain": [
       "<matplotlib.figure.Figure at 0x109eccf98>"
      ]
     },
     "metadata": {},
     "output_type": "display_data"
    }
   ],
   "source": [
    "# Define temperature range for this boundary\n",
    "Tfus = linspace(T3, T3 -1)\n",
    "\n",
    "# Calculate the change in volume upon melting\n",
    "V_ice = M/rho_ice\n",
    "V_liquid = M/rho_liquid\n",
    "Vfus = V_liquid-V_ice\n",
    "\n",
    "# Use the Thompson equation to get the pressure\n",
    "Pfus = P3 + Hfus/Vfus*log(Tfus/T3)\n",
    "\n",
    "# Graph it\n",
    "figure()\n",
    "semilogy(Tfus, Pfus)\n",
    "xlabel(\"Temperature (K)\")\n",
    "ylabel(\"Pressure (Pa)\")\n",
    "title(\"Ice/liquid phase boundary\")"
   ]
  },
  {
   "cell_type": "markdown",
   "metadata": {},
   "source": [
    "Now, the ice/vapor boundary"
   ]
  },
  {
   "cell_type": "code",
   "execution_count": null,
   "metadata": {},
   "outputs": [],
   "source": [
    "# Define temperature range for this boundary\n",
    "Tsub = linspace(T3-20, T3)\n",
    "\n",
    "# Use the Clausius-Clapeyron Equation\n",
    "Psub = P3 * exp((-Hsub/R)*((1/Tsub)-(1/T3)))\n",
    "\n",
    "# Graph it\n",
    "figure()\n",
    "semilogy(Tsub, Psub)\n",
    "xlabel(\"Temperature (K)\")\n",
    "ylabel(\"Pressure (Pa)\")\n",
    "title(\"ice/vapor boundary\")"
   ]
  },
  {
   "cell_type": "markdown",
   "metadata": {},
   "source": [
    "Now, the liquid/vapor boundary"
   ]
  },
  {
   "cell_type": "code",
   "execution_count": null,
   "metadata": {},
   "outputs": [],
   "source": [
    "# Define temperature range for this boundary\n",
    "Tvap = linspace(T3, T3+20)\n",
    "\n",
    "# Use the Clausius-Clapeyron Equation\n",
    "Pvap = P3 * exp((-Hvap/R)*((1/Tvap)-(1/T3)))\n",
    "\n",
    "# Graph it\n",
    "figure()\n",
    "semilogy(Tvap, Pvap)\n",
    "xlabel(\"Temperature (K)\")\n",
    "ylabel(\"Pressure (Pa)\")\n",
    "title(\"liquid/vapor boundary\")\n",
    "grid('on')"
   ]
  },
  {
   "cell_type": "markdown",
   "metadata": {},
   "source": [
    "Plot these to make sure they overlap OK"
   ]
  },
  {
   "cell_type": "code",
   "execution_count": null,
   "metadata": {},
   "outputs": [],
   "source": [
    "# Plot all three together. All three phase boundaries should meet up at the triple point. \n",
    "# If they don't you must have an error somewhere.\n",
    "figure()\n",
    "semilogy(Tsub, Psub, 'k')\n",
    "semilogy(Tvap, Pvap, 'r')\n",
    "semilogy(Tfus, Pfus, 'g')\n",
    "xlabel(\"Temperature (K)\")\n",
    "ylabel(\"Pressure (Pa) hello\")\n",
    "grid('on')"
   ]
  },
  {
   "cell_type": "markdown",
   "metadata": {},
   "source": [
    "### Pause for analysis\n",
    "\n",
    "There is a useful interpretation of the Clausius-Clapeyron curves in your phase diagram. At any given temperature, the Clausius-Clapeyron curve gives the vapor pressure required to keep a given sample of water in perfect equilibrium. If the actual vapor pressure at any given moment exceeds this value, we say the system is _supersaturated_ (too much water vapor). The system will respond by condensing some of the excess water vapor to liquid form. If, in contrast, the actual vapor pressure falls below the Clausius-Clapeyron value, we say the system is _subsaturated_, and some of the liquid will evaporate. To take a specific example, suppose a sample of liquid water at 275 K is exposed to air with a partial pressure of water of 725 Pa. Is the system subsaturated, supersaturated, or in equlibrium? (You'll probably need to use the zoom feature to answer this.) How will the system respond? "
   ]
  },
  {
   "cell_type": "markdown",
   "metadata": {
    "collapsed": true
   },
   "source": [
    "### Post-activity reflection\n",
    "\n",
    "\n",
    "1. Record your Pause for Analysis reflections in your notebook, with appropriate graphs and equations.\n",
    "3. Define the terms _phase diagram_, _phase boundary_, _triple point_, _Clapeyron equation_, _Clausius-Clapeyron equation_, _Thomson equation_, _super-saturated_, and _sub-saturated_.\n"
   ]
  }
 ],
 "metadata": {
  "kernelspec": {
   "display_name": "Python 3",
   "language": "python",
   "name": "python3"
  },
  "language_info": {
   "codemirror_mode": {
    "name": "ipython",
    "version": 3
   },
   "file_extension": ".py",
   "mimetype": "text/x-python",
   "name": "python",
   "nbconvert_exporter": "python",
   "pygments_lexer": "ipython3",
   "version": "3.6.4"
  }
 },
 "nbformat": 4,
 "nbformat_minor": 1
}
