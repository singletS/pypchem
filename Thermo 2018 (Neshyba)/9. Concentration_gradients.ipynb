{
 "cells": [
  {
   "cell_type": "markdown",
   "metadata": {},
   "source": [
    "### Computational Guided Inquiry for PChem (Neshyba & Guasco, 2018)\n",
    "\n",
    "# Work against a concentration gradient\n",
    "\n",
    "## Objective: Explore path dependence of the work due to a concentration gradient in $H^+$\n"
   ]
  },
  {
   "cell_type": "markdown",
   "metadata": {},
   "source": [
    "## Pre-class activities:\n",
    "Read the Introduction below.  \n",
    "\n",
    "Prepare a single piece of paper, to turn in as a \"prelab\", with the following information:\n",
    "1. All the equations in the Introduction. \n",
    "2. An equation analogous to Eq. 3, but specifying a different (presumably nonlinear) dependence of $c$ on $\\varepsilon$. Your equation has to satisfy the same boundary condition, i.e., $c(0)=c_1$ and $c(1)=c_2$.  \n"
   ]
  },
  {
   "cell_type": "markdown",
   "metadata": {},
   "source": [
    "## Introduction\n",
    "\n",
    "In this exercise, you'll consider the reversible work required to move up-gradient in concentration, shown schematically in Fig. 1.\n",
    "\n",
    "<p style='text-align: center;'>\n",
    "<img src=\"http://webspace.pugetsound.edu/facultypages/nesh/Notebook/chempot figure 2.jpg\" height=\"500\" width=\"500\"/>  \n",
    "</p>\n",
    "<p style='text-align: center;'>\n",
    "<strong>Figure 1</strong>. Schematic of work required to move through a concentration gradient.\n",
    "</p>\n",
    "<br>\n",
    "\n",
    "You can think of the points in Fig. 1 as indicating the concentration of $H^+$ ions in a solution, although the idea is a general one. Intuition suggests that moving a molecule \"up-gradient\" (to the right in Fig. 1) requires that work be done, while moving a molecule \"down-gradient\" is the direction of spontaneous change. We can make this idea quantitative by thinking about the work required to move one molecule or one mole of molecules through a \"force\" proportional to the concentration gradient. In infinitessimal form, this work is given by  "
   ]
  },
  {
   "cell_type": "markdown",
   "metadata": {},
   "source": [
    "<p style='text-align: right;'>\n",
    "$ dw' = \\dfrac{kT}{c}\\dfrac{dc}{d\\varepsilon} d\\varepsilon \\qquad$ (one molecule)\n",
    "$\\qquad\\qquad\\qquad\\qquad\\qquad\\qquad\\qquad\\qquad\\qquad  (1a) $  \n",
    "<br>\n",
    "\n",
    "$ dw' = \\dfrac{RT}{c}\\dfrac{dc}{d\\varepsilon} d\\varepsilon \\qquad$ (one mole)\n",
    "$\\qquad\\qquad\\qquad\\qquad\\qquad\\qquad\\qquad\\qquad\\qquad  (1b) $\n",
    "</p>\n",
    "\n",
    "where we're thinking of ε as marking the distance along the paths shown in Fig. 1. \n",
    "\n",
    "You've already learned that doing reversible, non-PV work on a system results in an increase in its Gibbs energy: $dw'=dG$. That in turn implies that the path we take in getting from point 1 to point 2 in Fig. 1 is immaterial; the reversible work done is path-independent. That means we can write the increase in Gibbs energy resulting from moving a mole of molecules along a given path as \n",
    "\n",
    "<p style='text-align: right;'>\n",
    "$ \\Delta G = w' = \\int_{0}^{1} \\dfrac{RT}{c} \\dfrac{dc}{d\\varepsilon} d\\varepsilon \\qquad$ \n",
    "$\\qquad\\qquad\\qquad\\qquad\\qquad\\qquad\\qquad\\qquad\\qquad  (2) $\n",
    "</p>\n",
    "\n",
    "where we have specified the limits to integration as $\\varepsilon=0 \\space$ to $\\space 1$. \n",
    "\n"
   ]
  },
  {
   "cell_type": "markdown",
   "metadata": {},
   "source": [
    "This exercise is all about verifying this path independence by evaluating the integral in Eq. 2 along different paths. In Python, you can perform this integration numerically, using the trapezoidal rule. A simple path would be to specify that the concentration depends linearly on \\varepsilon,\n",
    "\n",
    "<p style='text-align: right;'>\n",
    "$c(\\varepsilon) = c_1 + \\varepsilon(c_2-c_1) \\qquad$ \n",
    "$\\qquad\\qquad\\qquad\\qquad\\qquad\\qquad\\qquad\\qquad\\qquad  (3) $\n",
    "</p>\n",
    "\n",
    "You'll be asked in this exercise to dream up a different path as well, for comparison. One aspect of numerical integration you should be aware of, however, is that the accuracy of the result depends on the number of points in the numerical representation of the path: the more points, the more accurate the result. "
   ]
  },
  {
   "cell_type": "markdown",
   "metadata": {},
   "source": [
    "## In-class activities  \n",
    "Import various libraries."
   ]
  },
  {
   "cell_type": "code",
   "execution_count": null,
   "metadata": {},
   "outputs": [],
   "source": [
    "from numpy import *\n",
    "from matplotlib.pyplot import *\n",
    "from mpl_toolkits.mplot3d import axes3d"
   ]
  },
  {
   "cell_type": "code",
   "execution_count": null,
   "metadata": {},
   "outputs": [],
   "source": [
    "%matplotlib notebook"
   ]
  },
  {
   "cell_type": "markdown",
   "metadata": {},
   "source": [
    "Constants"
   ]
  },
  {
   "cell_type": "code",
   "execution_count": null,
   "metadata": {},
   "outputs": [],
   "source": [
    "R = 8.314e-3 # kJ/mol-K\n",
    "T = 310 # Physiological temperature"
   ]
  },
  {
   "cell_type": "markdown",
   "metadata": {},
   "source": [
    "Initial and final pH, translated into concentration of $H^+$"
   ]
  },
  {
   "cell_type": "code",
   "execution_count": null,
   "metadata": {},
   "outputs": [],
   "source": [
    "pH1 = 8; c1 = 10**(-pH1)\n",
    "pH2 = 7; c2 = 10**(-pH2)"
   ]
  },
  {
   "cell_type": "markdown",
   "metadata": {},
   "source": [
    "Lay out a variable $\\varepsilon$ that takes us from zero (corresponding to the starting concentration) to one (ending concentration)."
   ]
  },
  {
   "cell_type": "code",
   "execution_count": null,
   "metadata": {},
   "outputs": [],
   "source": [
    "eps = linspace(0,1)"
   ]
  },
  {
   "cell_type": "markdown",
   "metadata": {},
   "source": [
    "Define a simple linear path $c(\\varepsilon)$ from $c_1$ to $c_2$, graph it, and numerically integrate."
   ]
  },
  {
   "cell_type": "code",
   "execution_count": null,
   "metadata": {},
   "outputs": [],
   "source": [
    "# Make a linear path along eps that starts at c1 and ends at c2\n",
    "c = c1 + eps*(c2-c1)\n",
    "\n",
    "# Graph c(eps)\n",
    "figure()\n",
    "plot(eps,c)\n",
    "xlabel('eps')\n",
    "ylabel('concentration of H+ according to path 1')\n",
    "\n",
    "# Calculate dc/deps\n",
    "dc_deps = c2-c1\n",
    "\n",
    "# Form the integrand (including dc/deps)\n",
    "integrand = R*T/c*dc_deps\n",
    "\n",
    "# Integrate\n",
    "w = trapz(integrand,eps)\n",
    "print(\"Reversible work for path 1 is\", w)\n"
   ]
  },
  {
   "cell_type": "markdown",
   "metadata": {},
   "source": [
    "Repeat for second path of your choice, subject to the same boundary conditions (i.e., starting at $c_1$, ending at $c_2$; for example, you could use an equation like Eq. 3, but with $\\varepsilon^2$). Don't forget that $\\dfrac {dc}{d\\varepsilon}$ will have to be modified too."
   ]
  },
  {
   "cell_type": "code",
   "execution_count": null,
   "metadata": {},
   "outputs": [],
   "source": [
    "# Make a different path along eps that starts at c1 and ends at c2\n",
    "\n",
    "# Graph c(eps)\n",
    "\n",
    "# Calculate dc/deps\n",
    "\n",
    "# Form the integrand (including dc/deps)\n",
    "\n",
    "# Integrate\n"
   ]
  },
  {
   "cell_type": "markdown",
   "metadata": {},
   "source": [
    "### Pause for analysis. you'll notice that the values of work for the two paths are similar, but not exactly equal. Change the number of points in $\\varepsilon$ to 1000 and comment on what happens."
   ]
  },
  {
   "cell_type": "markdown",
   "metadata": {},
   "source": [
    "As a last step, we're going to compare your numerical results to analytical results. Solve the definite integral in Eq. 2 analytically (using pen and paper). Then enter your forumla below, i.e., evaluate your analytical result over the relevant limits ($\\varepsilon$ from 0 to 1). "
   ]
  },
  {
   "cell_type": "code",
   "execution_count": null,
   "metadata": {},
   "outputs": [],
   "source": [
    "# Evaluating the analytical result\n"
   ]
  },
  {
   "cell_type": "markdown",
   "metadata": {},
   "source": [
    "### Pause for analysis. Compare your analytical result to the numerical results you have obtained previously."
   ]
  },
  {
   "cell_type": "markdown",
   "metadata": {},
   "source": [
    "## Post-class activities:  \n",
    "1. Deliver your python notebook (the .ipynb file) in electronic form.\n",
    "2. In your lab notebook, make notes of the figures you generated in the course of this exercise, with annotation, and your \"pause for analysis\" reflections. \n"
   ]
  }
 ],
 "metadata": {
  "kernelspec": {
   "display_name": "Python 3",
   "language": "python",
   "name": "python3"
  },
  "language_info": {
   "codemirror_mode": {
    "name": "ipython",
    "version": 3
   },
   "file_extension": ".py",
   "mimetype": "text/x-python",
   "name": "python",
   "nbconvert_exporter": "python",
   "pygments_lexer": "ipython3",
   "version": "3.6.5"
  }
 },
 "nbformat": 4,
 "nbformat_minor": 1
}
