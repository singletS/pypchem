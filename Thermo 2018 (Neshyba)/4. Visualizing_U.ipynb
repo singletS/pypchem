{
 "cells": [
  {
   "cell_type": "markdown",
   "metadata": {},
   "source": [
    "### Computational Guided Inquiry for PChem (Neshyba & Guasco, 2018)\n",
    "\n",
    "# Visualizing _U(V,T)_\n",
    "\n",
    "## Objective: Build intuition about _U(V,T)_ as a thermodynamic surface\n",
    "\n"
   ]
  },
  {
   "cell_type": "markdown",
   "metadata": {},
   "source": [
    "## Pre-class activities:\n",
    "Read the Introduction below.  \n",
    "\n",
    "As a \"prelab\", calculate a value for the constant-volume heat capacity and internal pressure of an ideal monatomic gas.\n",
    "\n",
    "Prepare your lab notebook (the physical notebook) with a table of contents and a starting page for this activity, as usual. "
   ]
  },
  {
   "cell_type": "markdown",
   "metadata": {},
   "source": [
    "## Introduction\n",
    "\n",
    "Internal energy is usually written as a function of V and T, designated by the notation $U=U(V,T)$. Conceptually, this energy is very straightforward: it is the sum of the kinetic and potential energies of all molecules in a given sample. For an ideal, monatomic gas, the internal energy depends linearly on the temperature,\n",
    "\n",
    "<p style='text-align: right;'>\n",
    "$ U_{ideal}(V,T) = \\dfrac{3}{2} RT \\times n $\n",
    "$\\qquad\\qquad\\qquad\\qquad\\qquad\\qquad\\qquad\\qquad\\qquad  (1) $\n",
    "</p>\n",
    "\n",
    "where n is the number of moles in a gas sample, and R is the universal gas constant. The form of Eq. 1 can be deduced from the equipartition theorem: since the atoms making up a monatomic ideal gas have, on average, ${1 \\over 2} RT$ of translational kinetic energy for each of three spatial dimensions, the total is ${3 \\over 2} RT$ (per mole).\n",
    "\n"
   ]
  },
  {
   "cell_type": "markdown",
   "metadata": {},
   "source": [
    "Like atoms, molecules are able to store energy as translational motion, but they can store additional energy by rotating and vibrating. Their internal energies are larger as a result. We can write this as\n",
    "\n",
    "<p style='text-align: right;'>\n",
    "$ U_{ideal}(V,T) = [\\dfrac{3}{2} RT + f_{rot}(T) + f_{vib}(T)] \\times n $\n",
    "$\\qquad\\qquad\\qquad\\qquad\\qquad\\qquad\\qquad  (2) $\n",
    "</p>\n",
    "\n",
    "where $f_{rot}(T)$ and $f_{vib}(T)$ are functions of temperature only. Typically, $f_{rot}$ also depends linearly on temperature (like the translational part). However, $f_{vib}$  generally has a nonlinear temperature dependence. That’s a quantum-mechanical phenomenon, as it turns out: as temperature increases, more kinds (“modes”) of vibrational motion become thermally accessible. In practice, this means if you make a graph of $U$ as a function of $T$, for atoms you can expect a straight line, but for molecules you can expect some curvature! An experimentally-derived example of U as a function of T for fluorine ($F_2$) gas is shown in Fig. 1. Careful inspection will reveal a slight curvature in this plot: the slope increases with increasing temperature, implying a nonlinear temperature dependence.\n"
   ]
  },
  {
   "cell_type": "markdown",
   "metadata": {},
   "source": [
    "\n",
    "<p style='text-align: center;'>\n",
    "<img src=\"http://webspace.pugetsound.edu/facultypages/nesh/Notebook/UVT figure 1.png\" height=\"400\" width=\"400\"/>  \n",
    "<strong>Figure 1</strong>. Internal energy of fluorine gas as a function of temperature.\n",
    "</p>\n"
   ]
  },
  {
   "cell_type": "markdown",
   "metadata": {},
   "source": [
    "You may have noticed there isn’t any volume dependence in Eqs. (1) and (2). There is a physical meaning behind this idea: since the ideal gas law neglects molecular size and intermolecular attractions, we say that the atoms or molecules in an ideal gas don’t know about one another. So you can think of Eqs. (1) and (2) as being the energy of $n$ moles of isolated, non-interacting gas molecules.\n",
    "\n",
    "What happens in real molecular gases, where gaseous molecules do interact with one another? When two gas molecules approach one another from a distance, their first interaction is a mutual attraction. When they get too close, however, they push apart. This behavior can be expressed by an intermolecular potential energy, which depends on the distance between molecules (r), as indicated in Fig. 2.\n",
    "\n",
    "<p style='text-align: left;'>\n",
    "<img src=\"http://chemwiki.ucdavis.edu/@api/deki/files/8915/Figure_C.jpg\" height=\"400\" width=\"400\"/>  \n",
    "<strong>Figure 2</strong>. Intermolecular potential energy between two gas molecules as a function of the intermolecular distance $r$ (ref. 1).\n",
    "</p>\n",
    "\n"
   ]
  },
  {
   "cell_type": "markdown",
   "metadata": {},
   "source": [
    "We can revise our internal energy expression of an ideal gas to reflect this, as\n",
    "\n",
    "<p style='text-align: right;'>\n",
    "$ U_{real}(V,T) = [\\dfrac{3}{2} RT + f_{rot}(T) + f_{vib}(T)+ f_{intermol}(V,T)] \\times n $\n",
    "$\\qquad\\qquad\\qquad\\qquad\\qquad  (3) $\n",
    "</p>\n",
    "\n",
    "where $f_{intermol}$ represents the sum of all the intermolecular interactions at any given instant in time. Will $U_{real}$ be bigger or smaller than $U_{ideal}$? That depends on the sign of $f_{intermol}$, which depends on how close the molecules are to each other (as Fig. 2 shows). That, in turn, depends on the volume in which the molecules are confined: \n",
    "\n",
    "• For large volumes, molecules will be very far apart (extreme right in Fig. 2), so we can expect $f_{intermol} \\approx 0$. Since the only difference between $U_{real}$ and $U_{ideal}$ is $f_{intermol}$, we can predict that $U_{real} \\approx U_{ideal}$, i.e., real gases will tend to behave as ideal gases.  \n",
    "\n",
    "• For intermediate volumes, molecules will be at an intermediate distance from one another (the middle region in Fig. 2), so we can expect $f_{intermol}<0$. That means we can predict that $U_{real} < U_{ideal}$.  \n",
    "\n",
    "• For small volumes, there will be a lot of molecules close to one another (the region at the extreme left in Fig. 2), so we can expect $f_{intermol} > 0$. That means we can predict that $U_{real}>U_{ideal}$.  \n",
    "\n",
    "\n",
    " \n",
    "\n"
   ]
  },
  {
   "cell_type": "markdown",
   "metadata": {},
   "source": [
    "So the upshot is, we can expect the ideal gas equation to be a good approximation to real gas behavior when the gas is placed in a large volume, but not when the gas is confined to a small volume. A different line of thinking (not obvious from the present considerations) leads to the expectation that the ideal gas law should work well at high temperature, but not at low temperature. In fact, as you know, gases condense to liquids at low enough temperatures. This is due to the intermolecular attractions seen in Fig. 2.\n",
    "\n",
    "You can imagine that it’s a bit difficult to get an intuitive handle on equations like these. That’s where thermodynamic surfaces come in handy. Figure 3 shows $U(V,T)$ of a real gas. You can see some of the behaviors expected of all gases (e.g., increasing $U$ with increasing temperature), and some of the behaviors expected specifically of real gases (see the low-volume part of state space).\n",
    "\n",
    "<p style='text-align: center;'>\n",
    "<img src=\"http://webspace.pugetsound.edu/facultypages/nesh/Notebook/UVT figure 3.png\" height=\"400\" width=\"400\"/>  \n",
    "<strong>Figure 3</strong>. Thermodynamic surface of the internal energy, $U$, of a gas in a volume / temperature state space.\n",
    "</p>\n"
   ]
  },
  {
   "cell_type": "markdown",
   "metadata": {},
   "source": [
    "It turns out that physical chemists don’t usually measure $U(V,T)$ directly. But we can measure (or predict) the slopes of these functions. The slope in the volume direction is a quantity called the internal pressure (mainly because it has units of pressure),\n",
    "\n",
    "<p style='text-align: right;'>\n",
    "$ \\pi_T =  (\\dfrac{\\partial U}{\\partial V})_T $\n",
    "$\\qquad\\qquad\\qquad\\qquad\\qquad\\qquad\\qquad\\qquad\\qquad  (4) $\n",
    "</p>\n",
    "\n",
    "The 19th century physicist (and brewer!) James Joule$^2$ was the first to measure $\\pi_T$ for gases. He got a value that was very small, but the uncertainty in his result was too great to make meaningful statements about it. We now know that, while small, $\\pi_T$ is nonzero for typical gases. The slope in the temperature direction is the constant-volume heat capacity, \n",
    "\n",
    "<p style='text-align: right;'>\n",
    "$ C_V =  (\\dfrac{\\partial U}{\\partial T})_V $\n",
    "$\\qquad\\qquad\\qquad\\qquad\\qquad\\qquad\\qquad\\qquad\\qquad  (5) $\n",
    "</p>\n",
    "\n",
    "which _is_ readily measurable: you put some gas in a fixed-volume container, heat it up, and measure how much the temperature goes up. Of course, we can also predict $C_V$ mathematically by taking the partial derivative of $U(V,T)$, if we have an explicit expression for it (as in Eq. 1).\n",
    "\n",
    "Normally, physical chemists reconstruct thermodynamic surfaces like the one shown in Fig. 3 from measurements of $\\pi_T$ and $C_V$. For this activity, however, we’re interested in building intuition, so you’ll do the reverse: you’ll infer $\\pi_T$ and $C_V$ by inspecting thermodynamic surfaces $U(V,T)$. From that, you’ll be able to tell whether a gas is ideal monatomic, ideal molecular, or real.\n",
    "\n"
   ]
  },
  {
   "cell_type": "markdown",
   "metadata": {},
   "source": [
    "REFERENCES  \n",
    "<p style='text-align: left;'>\n",
    "(1) Wikipedia Lennard-Jones Potential - ChemWiki http://chemwiki.ucdavis.edu/Physical_Chemistry/Quantum_Mechanics/Atomic_Theory/Intermolecular_Forces/Lennard-Jones_Potential (accessed Aug 24, 2013).  \n",
    "(2) Wikipedia James Prescott Joule - Wikipedia, the free encyclopedia http://en.wikipedia.org/wiki/James_Prescott_Joule (accessed Aug 24, 2013).  \n",
    "</p>"
   ]
  },
  {
   "cell_type": "markdown",
   "metadata": {
    "collapsed": true
   },
   "source": [
    "## In-class activities  "
   ]
  },
  {
   "cell_type": "code",
   "execution_count": null,
   "metadata": {
    "collapsed": true
   },
   "outputs": [],
   "source": [
    "from numpy import *\n",
    "from matplotlib.pyplot import *\n",
    "from mpl_toolkits.mplot3d import axes3d"
   ]
  },
  {
   "cell_type": "code",
   "execution_count": null,
   "metadata": {
    "collapsed": true
   },
   "outputs": [],
   "source": [
    "%matplotlib notebook"
   ]
  },
  {
   "cell_type": "markdown",
   "metadata": {},
   "source": [
    "Load the datasets"
   ]
  },
  {
   "cell_type": "code",
   "execution_count": null,
   "metadata": {},
   "outputs": [],
   "source": [
    "# Load the thermodynamic state space\n",
    "V = loadtxt('V.txt') # In m^3\n",
    "T = loadtxt('T.txt') # In K\n",
    "\n",
    "# Load the state functions (In kJ/mol ... rows are for volume, columns are for temperature)\n",
    "Ugrid1 = loadtxt('Ugrid1.txt')  \n",
    "Ugrid2 = loadtxt('Ugrid2.txt') \n",
    "Ugrid3 = loadtxt('Ugrid3.txt')"
   ]
  },
  {
   "cell_type": "markdown",
   "metadata": {},
   "source": [
    "Graph the 5-liter isochore as a function of temperature, for each gas (superimposed on one graph). There are 50 rows in each $U(V,T)$ grid file, each corresponding to a different volume. Row #23 corresponds to about 5 liters. You slice an isochore from the surface by specifying just that row, and all the columns, with a colon (e.g., Ugrid[23,:]). You'll have to modify the code below accordingly. \n",
    "\n",
    "The plot commands below have an extra bit to them, namely the \"label\". That's handy because when you ask to show a legend, those labels automatically come up. "
   ]
  },
  {
   "cell_type": "code",
   "execution_count": null,
   "metadata": {},
   "outputs": [],
   "source": [
    "# Open a figure\n",
    "figure()\n",
    "\n",
    "# Extract the isochore of the first gas and plot it, \n",
    "UofT1 = Ugrid1[1,:]\n",
    "plot(T, UofT1, label='gas 1')\n",
    "\n",
    "# Extract the isochore of the second and plot it\n",
    "UofT2 = Ugrid2[1,:]\n",
    "plot(T, UofT2, label='gas 2')\n",
    "\n",
    "# Extract the isochore of the third and plot it\n",
    "\n",
    "\n",
    "# Ask for legends\n",
    "legend()"
   ]
  },
  {
   "cell_type": "markdown",
   "metadata": {},
   "source": [
    "### Pause for Analysis. One of the supplied $U(V,T)$ thermodynamic surfaces corresponds to an _ideal monatomic gas_ – as indicated by the fact that $C_V$ is constant. Which is it? For the gases that have non-constant heat capacities, does the heat capacity increase or decrease with temperature? What is the physical reason for this change?"
   ]
  },
  {
   "cell_type": "markdown",
   "metadata": {},
   "source": [
    "Now graph the 300-K isotherm as a function of volume, for each gas (also superimposed on one graph). Column #49 corresponds to 300 K, so you'll have to fix that in the code below."
   ]
  },
  {
   "cell_type": "code",
   "execution_count": null,
   "metadata": {},
   "outputs": [],
   "source": [
    "# Open a figure\n",
    "figure()\n",
    "\n",
    "# Extract the isotherm of the first gas and plot it, \n",
    "UofV1 = Ugrid1[:,1]\n",
    "plot(T, UofV1, label='gas 1')\n",
    "\n",
    "# Extract the isotherm of the second and plot it\n",
    "UofV2 = Ugrid2[:,1]\n",
    "plot(T, UofV2, label='gas 2')\n",
    "\n",
    "# Extract the isotherm of the third and plot it\n",
    "\n",
    "\n",
    "# Ask for legends\n",
    "legend()"
   ]
  },
  {
   "cell_type": "markdown",
   "metadata": {},
   "source": [
    "### Pause for Analysis. One of the supplied $U(V,T)$ thermodynamic surfaces corresponds to a real gas, as indicated by the fact that $\\pi_T \\neq 0$. Which is it?"
   ]
  },
  {
   "cell_type": "markdown",
   "metadata": {},
   "source": [
    "Next, get a thermodynamic surface of the internal energy of each gas. First you'll need to make gridded forms of the state space."
   ]
  },
  {
   "cell_type": "code",
   "execution_count": null,
   "metadata": {
    "collapsed": true
   },
   "outputs": [],
   "source": [
    "Tgrid, Vgrid = meshgrid(T,V)"
   ]
  },
  {
   "cell_type": "markdown",
   "metadata": {},
   "source": [
    "Now plot the three thermodynamic surfaces $U(V,T)$."
   ]
  },
  {
   "cell_type": "code",
   "execution_count": null,
   "metadata": {},
   "outputs": [],
   "source": [
    "# Open up a 3d figure window\n",
    "ax = figure().gca(projection='3d') # Set up a three dimensional graphics window \n",
    "\n",
    "# Plot surface 1\n",
    "ax.plot_surface(Tgrid, Vgrid*1e3, Ugrid1, color='blue') # Make the mesh plot\n",
    "ax.set_ylabel('V (L)') # Label axes\n",
    "ax.set_xlabel('T (K)')\n",
    "ax.set_zlabel('U (kJ/mol)')\n",
    "\n",
    "# Plot surface 2\n",
    "\n",
    "# Plot surface 3\n"
   ]
  },
  {
   "cell_type": "markdown",
   "metadata": {},
   "source": [
    "### Pause for Analysis. Sketch the surface corresponding to a real gas in your lab notebook. On your sketch, highlight the isochore and isotherm you sliced out in steps 1 and 2, and locations in state space at which large differences with respect to ideal gas behavior occur."
   ]
  },
  {
   "cell_type": "markdown",
   "metadata": {},
   "source": [
    "Manipulate Eqs. 2 and 3 to come up with an expression for $f_{intermol}$ in terms of $U(V,T)$ of the real molecular gas and the ideal molecular gas. Use your formula to calculate $f_{intermol}$ and display it as a thermodynamic surface (as figure window 4)."
   ]
  },
  {
   "cell_type": "code",
   "execution_count": null,
   "metadata": {
    "collapsed": true
   },
   "outputs": [],
   "source": [
    "# Calculate f \n",
    "\n",
    "# Display it as a thermodynamic surface\n"
   ]
  },
  {
   "cell_type": "markdown",
   "metadata": {},
   "source": [
    "### Pause for Analysis. Examine $f_{intermol}$ closely. Make a sketch of it in your notebook. Based on your examination, you might find that it could well have written $f_{intermol}(T)$ or $f_{intermol}(V)$ in Eq. 3. Which is the more appropriate description?"
   ]
  },
  {
   "cell_type": "markdown",
   "metadata": {},
   "source": [
    "## Post-class activities:\n",
    "In your CGI notebook, enter your responses to the \"pause for analysis\" items."
   ]
  }
 ],
 "metadata": {
  "kernelspec": {
   "display_name": "Python 3",
   "language": "python",
   "name": "python3"
  },
  "language_info": {
   "codemirror_mode": {
    "name": "ipython",
    "version": 3
   },
   "file_extension": ".py",
   "mimetype": "text/x-python",
   "name": "python",
   "nbconvert_exporter": "python",
   "pygments_lexer": "ipython3",
   "version": "3.6.1"
  }
 },
 "nbformat": 4,
 "nbformat_minor": 1
}
