{
 "cells": [
  {
   "cell_type": "markdown",
   "metadata": {},
   "source": [
    "### Computational Guided Inquiry for PChem (Neshyba & Guasco, 2018)\n",
    "\n",
    "# Visualizing H(T,P)\n",
    "\n",
    "## Objective: Use Python graphics to visualize thermodynamic surfaces"
   ]
  },
  {
   "cell_type": "markdown",
   "metadata": {},
   "source": [
    "## Pre-class activities:\n",
    "\n",
    "1. Read the Introduction below.  \n",
    "2. In your composition notebook write down all the equations in the introduction.\n",
    "3. Derive algebraic expressions for $ C_P $ and $ \\mu_T $ based on $ H_{real} $ as given in the introduction."
   ]
  },
  {
   "cell_type": "markdown",
   "metadata": {},
   "source": [
    "## Introduction\n",
    "\n",
    "The ideal gas enthalpy for a linear, non-vibrating molecule is given by  \n",
    "\n",
    "<p style='text-align: right;'>\n",
    "$ H_{ideal} = \\dfrac{7}{2}RT $\n",
    "$\\qquad\\qquad\\qquad\\qquad\\qquad\\qquad\\qquad\\qquad\\qquad (1) $\n",
    "</p>\n",
    "<br>\n",
    "\n",
    "Simulating a real gas, van der Waals would modify this expression as  \n",
    "\n",
    "<p style='text-align: right;'>\n",
    "$ H_{real} = \\dfrac{7}{2}RT -\\dfrac{2aP}{RT} + bP $\n",
    "$\\qquad\\qquad\\qquad\\qquad\\qquad\\qquad\\qquad\\qquad\\qquad (2) $\n",
    "</p>\n",
    "\n",
    "As you know, the slopes of the enthalpy in a T,P state space are given by\n",
    "\n",
    "<p style='text-align: right;'>\n",
    "$ \\mu_T =  (\\dfrac{\\partial H}{\\partial P})_T $\n",
    "$\\qquad\\qquad\\qquad\\qquad\\qquad\\qquad\\qquad\\qquad\\qquad  (3) $\n",
    "</p>\n",
    "\n",
    "and\n",
    "\n",
    "<p style='text-align: right;'>\n",
    "$ C_P =  (\\dfrac{\\partial H}{\\partial T})_P $\n",
    "$\\qquad\\qquad\\qquad\\qquad\\qquad\\qquad\\qquad\\qquad\\qquad  (4) $\n",
    "</p>\n",
    "\n",
    "In this exercise, you'll be doing some analysis based on the foregoing equations. First you'll predict the inversion temperature of your \"real\" gas (really a van der Waals gas). This is the temperature at which $\\mu_T=0$. Then, you'll construct the thermodynamic surface $H(T,P)$ for an ideal gas and a real gas, for comparison. If you plot the real gas' thermodynamic surface as a contour map, it'll be easy to see whether your prediction about the inversion temperature is correct."
   ]
  },
  {
   "cell_type": "markdown",
   "metadata": {},
   "source": [
    "## In-class activities  \n",
    "\n",
    "Import various libraries."
   ]
  },
  {
   "cell_type": "code",
   "execution_count": null,
   "metadata": {},
   "outputs": [],
   "source": [
    "from numpy import *\n",
    "from matplotlib.pyplot import *\n",
    "from mpl_toolkits.mplot3d import axes3d"
   ]
  },
  {
   "cell_type": "code",
   "execution_count": null,
   "metadata": {},
   "outputs": [],
   "source": [
    "%matplotlib notebook"
   ]
  },
  {
   "cell_type": "markdown",
   "metadata": {},
   "source": [
    "Define the van der Waals parameters and calculate the inversion temperature"
   ]
  },
  {
   "cell_type": "code",
   "execution_count": null,
   "metadata": {},
   "outputs": [],
   "source": [
    "# In the SI system\n",
    "R = .082\n",
    "\n",
    "# vdw parameters for CO2\n",
    "a = 3.6 \n",
    "b = .043\n",
    "\n",
    "# Also lay out a range of pressures\n",
    "P = linspace(1,1000)"
   ]
  },
  {
   "cell_type": "markdown",
   "metadata": {},
   "source": [
    "Now guess at a temperature range, get the enthalpy in that range, and inspect the results. Stop when you have centered on the inversion temperature. Here's a hint: if the gas cools, you're probably below the inversion temperature."
   ]
  },
  {
   "cell_type": "code",
   "execution_count": null,
   "metadata": {},
   "outputs": [],
   "source": [
    "T_center = 1000\n",
    "T_interval = 200\n",
    "T = linspace(T_center-T_interval, T_center+T_interval)\n",
    "Pgrid,Tgrid = meshgrid(P,T)\n",
    "\n",
    "# Calculate H(T,P) for the gas\n",
    "Hreal = 7./2*R*Tgrid - 2*a*Pgrid/(R*Tgrid) + b*Pgrid\n",
    "\n",
    "# Graph it in 3d\n",
    "ax = figure().gca(projection='3d') # Set up a three dimensional graphics window \n",
    "ax.plot_wireframe(Pgrid, Tgrid, Hreal, rstride=2, cstride=2, color='blue') # Make the mesh plot\n",
    "ax.set_xlabel('P (atm)') # Label axes\n",
    "ax.set_ylabel('T (K)')\n",
    "ax.set_zlabel('H')\n",
    "\n",
    "# Graph it as a contour plot\n",
    "figure()\n",
    "grid(True)\n",
    "contour(Tgrid, Pgrid, Hreal,linestyles='solid')"
   ]
  },
  {
   "cell_type": "markdown",
   "metadata": {},
   "source": [
    "### Pause for Analysis. A more direct way of doing what you just did is to calculate the inversion temperature directly from the van der waals parameters, and see whether it agrees with what you just estimated. To do so, use the algebraic expression for $\\mu_T$ you obtained earlier, then, setting $\\mu_T=0$, solve for $T$. "
   ]
  },
  {
   "cell_type": "code",
   "execution_count": null,
   "metadata": {},
   "outputs": [],
   "source": [
    "# Calculate and print the inversion temperature from vdw parameters based on your derivation\n"
   ]
  }
 ],
 "metadata": {
  "kernelspec": {
   "display_name": "Python 3",
   "language": "python",
   "name": "python3"
  },
  "language_info": {
   "codemirror_mode": {
    "name": "ipython",
    "version": 3
   },
   "file_extension": ".py",
   "mimetype": "text/x-python",
   "name": "python",
   "nbconvert_exporter": "python",
   "pygments_lexer": "ipython3",
   "version": "3.6.5"
  }
 },
 "nbformat": 4,
 "nbformat_minor": 1
}
