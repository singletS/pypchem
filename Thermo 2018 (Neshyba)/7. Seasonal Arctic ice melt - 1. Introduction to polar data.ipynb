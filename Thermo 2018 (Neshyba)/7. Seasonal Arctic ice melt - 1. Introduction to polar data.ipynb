{
 "cells": [
  {
   "cell_type": "markdown",
   "metadata": {},
   "source": [
    "## Computational Guided Inquiry for Polar Research (2018) \n",
    "\n",
    "## Seasonal Arctic ice  melt - 1. Introduction to polar data\n",
    "\n",
    "### Activity overview  \n",
    "1. Explore datasets available for Arctic sea ice volume and extent\n",
    "2. Develop skills in acquiring and plotting information in these datasets using python\n",
    "\n",
    "### Pre-class activities\n",
    "\n",
    "1. Read the Introduction\n",
    "2. Write definitions of the terms _albedo_, _ice-albedo feedback_, _sea ice volume_, and _sea ice extent_.\n"
   ]
  },
  {
   "cell_type": "markdown",
   "metadata": {},
   "source": [
    "## Introduction\n",
    "\n",
    "_Climate connection_  \n",
    "Human activity has changed the composition of the atmosphere in such a way that the temperature of the planet has increased. Polar regions have undergone greater increases in temperature than midlatitudes, a phenomenon called _polar amplification_. Recent research has also shown that this amplified warming has a significant impact on weather at lower latitudes, causing severe episodes of drought and heavy rainfall in North America and Asia.\n",
    "\n",
    "Polar ampification is largely due to a phenomenon called _ice-albedo feedback_. Ice-albedo feedback works as follows: Ice and snow have a high _albedo_, meaning those surfaces efficiently reflect radiation away from the earth's surface. But the water that comes from _melted_ snow and ice has a lower albedo, meaning it absorbs more solar radiation. That, in turn,  warms the surface a little more, which causes more melting, and so on: a postive feedback. \n",
    "\n",
    "All this means that sea ice extent in polar regions is an excellent indicator of climate changes resulting from human activity. To that end, climate scientists have taken careful measurements of the seasonal melting and freezing of ice in polar regions, as well as trends in that melting and freezing from year to year. Here, you will examine some of these datasets. "
   ]
  },
  {
   "cell_type": "markdown",
   "metadata": {},
   "source": [
    "_Sea ice volume and extent_  \n",
    "Sea ice _volume_ is the total volume of sea ice at any given time, usually for a given region; we have Arctic sea ice volume and Antarctic sea ice volume. At both poles, the sea ice volume varies a lot over a season. Some data are given in Figure 1. During the Arctic winter, because the sun is down 24 hours a day, ice volume steadily builds up. The maximum occurs in April, at which point the sun finally rises high enough in the sky that ice begins to melt. Melting continues until September, when cold once again sets in, and ice volume begins to increase.\n",
    "\n",
    "<p style ='text-align: center;'>\n",
    "<img src=\"http://psc.apl.uw.edu/wordpress/wp-content/uploads/schweiger/ice_volume/BPIOMASIceVolumeAnomalyCurrentV2.1_CY.png\" height=\"300\" width=\"400\"/> \n",
    "Figure 1. Seasonal variation of Arctic sea ice volume.\n",
    "</p>  \n",
    "\n",
    "Sea ice _extent_ refers to the area covered by sea ice. Sea ice extent varies a lot over a season too, as shown in the figure below. \n",
    "\n",
    "<p style ='text-align: center;'>\n",
    "<img src=\"https://ads.nipr.ac.jp/vishop/graph/Sea_Ice_Extent_N_prev_v2.png\" height=\"400\" width=\"400\"/>  \n",
    "Figure 2. Arctic sea ice extent\n",
    "</p>\n",
    "\n",
    "One question for climate scientists concerns _how_ Arctic ice melts seasonally. Is more volume lost at the edges, or through thinning of the entire ice cover? It turns out that if you know sea ice volume _and_ extent, then you can also estimate the _thickness_ of the ice. This follows from simple dimensional analysis: volume has dimension $distance^3$, while extent has dimension $distance^2$. So the ratio between them tells you about the thickness.\n",
    "\n",
    "In this CGI, you'll look at some Arctic sea ice data and try to come up with an answer to this question. In doing so, you'll develop familiarity with the seasonal and year-to-year patterns of sea ice growth and melt, as well as skill at visualizing and analyzing the available data. "
   ]
  },
  {
   "cell_type": "markdown",
   "metadata": {},
   "source": [
    "### Part I. Viewing the seasonal cycle of polar sea ice"
   ]
  },
  {
   "cell_type": "markdown",
   "metadata": {},
   "source": [
    "Here you will use the Sea Ice Animation Tool provided by the National Snow and Ice Data Center (NSIDC) to watch the seasonal cycles of polar sea ice. These images are created using a satellite microwave sensor.\n",
    "\n",
    "1) Go to the website https://nsidc.org/data/.  \n",
    "2) The third column says, \"Data For Everyone.\" In that column, choose \"Sea Ice Index.\"  \n",
    "3) You will see a map of the Arctic. Under \"Arctic\" at the top, click on \"Animate Monthly Images.\"  \n",
    "4) Select 2016 as the start year and play the movie to see the sea ice extent change over the course of a year. \n",
    "5) Repeat the above for the Antarctic by selecting \"Southern\" for Hemisphere. In what month is the sea ice at a maximum? a minimum? How does this compare to the Arctic and why does it differ?  "
   ]
  },
  {
   "cell_type": "markdown",
   "metadata": {},
   "source": [
    "### Pause for analysis\n",
    "1. Looking back on Figures 1 and 2, do you notice any year-to-year trends in the maximum or minimum of Arctic sea ice volume or extent?\n",
    "2. Based on what you've seen so far (which admittedly isn't very much), would you guess that Arctic ice melts more by retreat of its edges, or by thinning?  \n",
    "3. Watch the animation again for the Northern Hemisphere for 2016 with sea ice concentration selected this time. Sea ice concentration shows the percent of the ocean covered by sea ice at that location. What insight does this provide?"
   ]
  },
  {
   "cell_type": "markdown",
   "metadata": {},
   "source": [
    "### Part II. Retrieving and plotting Arctic sea  ice data"
   ]
  },
  {
   "cell_type": "code",
   "execution_count": 1,
   "metadata": {},
   "outputs": [],
   "source": [
    "# Load packages that we will need\n",
    "from numpy import *\n",
    "from matplotlib.pyplot import *\n",
    "from mpl_toolkits.mplot3d import axes3d\n",
    "%matplotlib notebook"
   ]
  },
  {
   "cell_type": "markdown",
   "metadata": {},
   "source": [
    "In the following cell, we use the np.arange command to create an array of months, from 1 (January) to 12 (December). We then print the list."
   ]
  },
  {
   "cell_type": "code",
   "execution_count": 2,
   "metadata": {},
   "outputs": [
    {
     "name": "stdout",
     "output_type": "stream",
     "text": [
      "[ 1  2  3  4  5  6  7  8  9 10 11 12]\n"
     ]
    }
   ],
   "source": [
    "months = np.arange(1,13); print(months)"
   ]
  },
  {
   "cell_type": "markdown",
   "metadata": {},
   "source": [
    "_Ice Extent_  \n",
    "We will download some Arctic sea ice extent data from the NSIDC site. The first two steps below are the same as previous, while following steps differ:\n",
    "\n",
    "1) Go to the website https://nsidc.org/data/.  \n",
    "2) The third column says, \"Data For Everyone.\" In that column, choose \"Sea Ice Index.\"  \n",
    "3) You will see a map of the Arctic. Under \"Arctic\" at the top, this time click on \"Data Archive\" to the far right.  \n",
    "4) Click on the dark blue tab that says \"Data\" in about the middle of the page.  \n",
    "5) Under \"Monthly Sea Ice Extent and Area Data Files\" click on \"FTP directory.\"  \n",
    "6) If you have a Mac, next click \"Allow.\"\n",
    "7) A window pops up.  Click \"Guest\" a \"Connect.\"\n",
    "8) Your finder should open.  Double-click \"seaice_analysis.\"\n",
    "9) Double click \"Sea_Ice_Index_Monthly_Data_by_Year_G02135_v2.1.xlsx\" (you will need Excel).\n",
    "10) A spreadsheet opens.  There are tabs for different \"sheets\" at the bottom. If you click \"Documentation,\" you can read a little bit about the data. Note the units and write them in your notebook. \n",
    "11) Next click on the \"NH-extent\" tab at the bottom. The leftmost column is year, the top row is month, and the other values are sea ice extent in the units you noted. We are interested in the values from 2016, which are cut and pasted below."
   ]
  },
  {
   "cell_type": "code",
   "execution_count": 3,
   "metadata": {},
   "outputs": [],
   "source": [
    "sea_ice_extent = [13.638,14.323,14.533,13.829,12.082,10.604,8.131,5.598,4.719,\\\n",
    "                6.45,9.078,12.092]\n"
   ]
  },
  {
   "cell_type": "markdown",
   "metadata": {},
   "source": [
    "Plot the Sea Ice Extent with the correct units."
   ]
  },
  {
   "cell_type": "code",
   "execution_count": 4,
   "metadata": {},
   "outputs": [
    {
     "data": {
      "text/plain": [
       "[1, 12, 4, 15]"
      ]
     },
     "execution_count": 4,
     "metadata": {},
     "output_type": "execute_result"
    },
    {
     "data": {
      "image/png": "[encoded data removed]",
      "text/plain": [
       "<matplotlib.figure.Figure at 0x10e6227b8>"
      ]
     },
     "metadata": {},
     "output_type": "display_data"
    }
   ],
   "source": [
    "plot(months,sea_ice_extent,'.-')\n",
    "title('Northern Hemisphere Sea Ice Extent: 2016')\n",
    "xlabel('Month')\n",
    "ylabel('Extent (10$^6$ km)')\n",
    "axis([1,12,4,15])"
   ]
  },
  {
   "cell_type": "markdown",
   "metadata": {},
   "source": [
    "_Ice Volume_  \n",
    "For ice volume, we will use a reanalysis dataset, which is a model prediction based on observations. We will download ice volume from the Polar Science Center of the University of Washington.  \n",
    "\n",
    "1) Go to http://psc.apl.uw.edu/research/projects/arctic-sea-ice-volume-anomaly/data/  \n",
    "2) Scroll down to \"PIOMAS Monthly Ice Volume Data, 1979-present.\"   \n",
    "3) You *must* fill out an email address (even though it says \"Optional.\" Any email address with an @ sign will work (e.g. guest@guest).  \n",
    "4) Then click \"PIOMAS Monthly Ice Volume Data,\" which may appear to the right of \"Send,\" or under \"Your message was sent successfully.\"  \n",
    "5) A new window opens with data.  \n",
    "6) The left-most column gives year and then next 12 columns are for months, from January to December. This data has been pasted below.\n",
    "6) (Optional) Click File -> Save as and save the file to your directory, as indicated by your instructor."
   ]
  },
  {
   "cell_type": "code",
   "execution_count": 5,
   "metadata": {},
   "outputs": [],
   "source": [
    "sea_ice_volume = [17.185, 19.592, 21.524, 22.459, 21.026, 16.493, 10.257,  \\\n",
    "                  5.941,  4.530,  5.511,  7.834, 11.206]"
   ]
  },
  {
   "cell_type": "markdown",
   "metadata": {},
   "source": [
    "It is plotted below."
   ]
  },
  {
   "cell_type": "code",
   "execution_count": null,
   "metadata": {},
   "outputs": [],
   "source": []
  },
  {
   "cell_type": "markdown",
   "metadata": {},
   "source": [
    "### Part III. Analyzing Arctic sea  ice data"
   ]
  },
  {
   "cell_type": "markdown",
   "metadata": {},
   "source": [
    "Here we will estimate seasonal changes in volume and extent. We will make use of the \"min\" and \"max\" functions (built into numpy) to find the minimum and maximum in the sea ice extent and volume shown in the figures above."
   ]
  },
  {
   "cell_type": "code",
   "execution_count": 6,
   "metadata": {},
   "outputs": [
    {
     "name": "stdout",
     "output_type": "stream",
     "text": [
      "Ice_volume_change 17.929 km^3\n"
     ]
    }
   ],
   "source": [
    "# Calculate and print changes in volume\n",
    "Ice_volume_change = max(sea_ice_volume)-min(sea_ice_volume)\n",
    "print ('Ice_volume_change', Ice_volume_change, 'km^3')\n",
    "\n",
    "# Calculate and print changes in extent\n"
   ]
  },
  {
   "cell_type": "markdown",
   "metadata": {},
   "source": [
    "Get the change in volume and extent as percentages of the maximum"
   ]
  },
  {
   "cell_type": "code",
   "execution_count": 7,
   "metadata": {},
   "outputs": [
    {
     "name": "stdout",
     "output_type": "stream",
     "text": [
      "As a percent, volume reduction =  79.8299122846075 %\n"
     ]
    }
   ],
   "source": [
    "# Change in volume\n",
    "print ('As a percent, volume reduction = ', Ice_volume_change/max(sea_ice_volume)*100, '%')\n",
    "\n",
    "# Change in extent\n"
   ]
  },
  {
   "cell_type": "markdown",
   "metadata": {},
   "source": [
    "Estimate thickness (m) from the volume and extent, for both April and September"
   ]
  },
  {
   "cell_type": "code",
   "execution_count": 8,
   "metadata": {},
   "outputs": [
    {
     "name": "stdout",
     "output_type": "stream",
     "text": [
      "Thickness in April (m) = 1.642857142857143\n"
     ]
    }
   ],
   "source": [
    "# In April\n",
    "Volume = 23e3 # km^3\n",
    "Extent = 14e6 # km^2\n",
    "Thickness = Volume/Extent*1000\n",
    "print ('Thickness in April (m) =', Thickness)\n",
    "\n",
    "# In September\n"
   ]
  },
  {
   "cell_type": "markdown",
   "metadata": {},
   "source": [
    "### Pause for Analysis\n",
    "\n",
    "In the first Pause for Analysis, you made a guess about the mechanism behind seasonal Arctic ice melt. Evaluate your claim. It may be helpful in doing so to calculate the seasonal reduction in thickness as a _percent_, and compare it to the seasonal reduction in volume previously calculated, also as a percent."
   ]
  },
  {
   "cell_type": "markdown",
   "metadata": {},
   "source": [
    "### Post-activity reflection\n",
    "\n",
    "Record your Pause for Analysis reflections in your notebook, with appropriate graphs and equations.\n"
   ]
  },
  {
   "cell_type": "code",
   "execution_count": null,
   "metadata": {},
   "outputs": [],
   "source": []
  }
 ],
 "metadata": {
  "kernelspec": {
   "display_name": "Python 3",
   "language": "python",
   "name": "python3"
  },
  "language_info": {
   "codemirror_mode": {
    "name": "ipython",
    "version": 3
   },
   "file_extension": ".py",
   "mimetype": "text/x-python",
   "name": "python",
   "nbconvert_exporter": "python",
   "pygments_lexer": "ipython3",
   "version": "3.6.4"
  }
 },
 "nbformat": 4,
 "nbformat_minor": 2
}
