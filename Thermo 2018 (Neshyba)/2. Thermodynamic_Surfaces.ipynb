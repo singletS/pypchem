{
 "cells": [
  {
   "cell_type": "markdown",
   "metadata": {},
   "source": [
    "### Computational Guided Inquiry for PChem (Neshyba & Guasco, 2018)\n",
    "\n",
    "\n",
    "# Visualizing Thermodynamic Surfaces\n",
    "\n",
    "\n",
    "## Objective: Use Python graphics to visualize pressure as a state function\n"
   ]
  },
  {
   "cell_type": "markdown",
   "metadata": {},
   "source": [
    "## Pre-class activities:  \n",
    "Read the Introduction below.  \n",
    "\n",
    "If you haven't done so already, prepare your comp notebook with a table of contents and a starting page for this activity. \n",
    "\n",
    "On a single page of your composition book enter the following information:\n",
    "1. Two equations for pressure as a function of temperature and volume: one for an ideal gas, and a second for van der Waals gas. \n",
    "2. The value of the gas constant (R) in the L-atm unit system. \n",
    "3. Define the terms _state function_, _equation of state_, _thermodynamic variable_, _thermodynamic surface_, _state space_, _isochore_, and _isotherm_.\n",
    "\n",
    "#### Take a photo of this page and email it to your instructor as an attachment prior to class. This is your prelab for the in-class exercise.\n",
    "\n",
    "Don't forget to bring your composition notebook with you during the in-class activity."
   ]
  },
  {
   "cell_type": "markdown",
   "metadata": {},
   "source": [
    "## Introduction\n",
    "\n",
    "An _equation of state_ is any algebraic expression that relates\n",
    "thermodynamic variables to one another. You’re probably familiar with the\n",
    "equation of state for an ideal gas, written algebraically as $PV=nRT$.\n",
    "Here, the pressure, volume, and temperature are thermodynamic variables; _n_\n",
    "tells you how much of the gas there is, and _R_ is the gas constant. It’s\n",
    "clear from this equation that once we know any two thermodynamic\n",
    "variables, we can get the third, e.g.,\n",
    "\n",
    "<p style='text-align: right;'>\n",
    "$ P(V,T) = \\dfrac{n R T}{V} (ideal \\space gas)$\n",
    "$\\qquad\\qquad\\qquad\\qquad\\qquad\\qquad\\qquad\\qquad\\qquad  (1) $\n",
    "</p>\n",
    "\n",
    "We haven’t changed much in writing this; it’s still the equation of state for an ideal gas. But by writing _P(V,T)_ on the left hand side, we are signaling that we’re thinking about pressure as a _state function_ (because it depends on _T_ and _V_). Variables _T_ and _V_, the independent variables in this equation, define a two-dimensional _state space_. Equation 1 can be thought of geometrically as a surface in two dimensions. Josiah Willard Gibbs called these _thermodynamic surfaces_. James Clerk Maxwell famously made three plaster models of a thermodynamic surface, and gave one as a present to Gibbs. A photo of one is shown in Fig. 1.\n",
    "\n"
   ]
  },
  {
   "cell_type": "markdown",
   "metadata": {},
   "source": [
    "<p style='text-align: center;'>\n",
    "<img src=\"http://upload.wikimedia.org/wikipedia/en/a/aa/Maxwell_thermodynamic_surface.png\" height=\"300\" width=\"300\"/>\n",
    "\n",
    "__Figure 1__. Thermodynamic surface of the energy of an idealized water-like substance constructed by James Clerk Maxwell as a gift to Josiah Willard Gibbs$^1$. \n",
    "</p>"
   ]
  },
  {
   "cell_type": "markdown",
   "metadata": {},
   "source": [
    "The idea of thermodynamic surfaces is quite general. The plaster model Maxwell gave to Gibbs showed the energy (_U_) as a function of the volume and entropy (_V_ and _S_) of an idealized water-like substance, which we would write shorthand as _U(V,S)_. But an important point is that _all_ substances (real or idealized) are characterized by thermodynamic surfaces. \n",
    "\n",
    "Can you visualize what the thermodynamic surface _P(V,T)_ of a gas looks like? One approach is to imagine how pressure behaves as a function of each variable separately. That is exactly what early investigators did. Two 17th century British scientists, Boyle and Hooke, found that when the volume of a gas is changed isothermally (temperature held constant), the gas pressure goes as the inverse of the volume. A century and a half later, French chemist Gay-Lussac reported that when the temperature of a gas is changed isochorically (volume held constant), the pressure goes up in direct proportion to the temperature. These properties are also easily obtained from Eq. 1, by the way, but Gay-Lussac, Boyle, and Hooke didn’t have that advantage.\n",
    "\n",
    "If you are still struggling with visualizing _P(V,T)_ even with these insights, don’t worry: that’s the sort of thing computers are good at, and what you’ll be asking Python to do for you in this computational lab.\n"
   ]
  },
  {
   "cell_type": "markdown",
   "metadata": {},
   "source": [
    "Of course, Eq. 1 does not describe real gases exactly; under some physical conditions, it’s a pretty good approximation, but under other physical conditions, large deviations from the real behavior are seen. That’s unfortunate in one sense, because it means real gases can’t be described with the algebraic elegance of Eq. 1. On the other hand, it turns out that the way a real gas differs from ideal-gas behavior can reveal important information about the gas molecules! A formula derived by van der Waals$^2$, \n",
    "\n",
    "<p style='text-align: right;'>\n",
    "$ P(V,T) = \\dfrac{n R T}{V-nb} -\\dfrac{an^2}{V^2} (van \\space der \\space Waals \\space gas) $\n",
    "$\\qquad\\qquad\\qquad\\qquad\\qquad\\qquad\\qquad\\qquad\\qquad  (2) $\n",
    "</p>\n",
    "\n",
    "\n",
    "is a kind of compromise: it is not quite as elegant (or at least simple) as the ideal gas equation of state, but it has the great advantage that it describes real gases much better, because parameters _a_ and _b_ are adjusted for each gas.\n",
    "\n"
   ]
  },
  {
   "cell_type": "markdown",
   "metadata": {},
   "source": [
    "If you’re interested in the error (difference) between these two ways of describing a gas, the formula is\n",
    "\n",
    "<p style='text-align: right;'>\n",
    "$ \\%error = \\dfrac{P_{ideal}-P_{vdw}}{P_{vdw}}x100 $\n",
    "$\\qquad\\qquad\\qquad\\qquad\\qquad\\qquad\\qquad\\qquad\\qquad  (3) $\n",
    "</p>\n",
    "\n",
    "\n",
    "This formula assumes the van der Waals result is more accurate, which is generally accepted to be the case.\n",
    "\n",
    "In this computational lab, you will use Python to generate and manipulate thermodynamic surfaces for ideal gases and for van der Waals gases."
   ]
  },
  {
   "cell_type": "markdown",
   "metadata": {},
   "source": [
    "## References\n",
    "(1) Willard Gibbs: American Genius (1942), by Muriel Rukeyser.  \n",
    "(2) [Wikipedia's page on van der Waals constants](https://en.wikipedia.org/wiki/Van_der_Waals_constants_%28data_page%29)"
   ]
  },
  {
   "cell_type": "markdown",
   "metadata": {},
   "source": [
    "## In-class activities  \n",
    "You'll need to import various libraries for this."
   ]
  },
  {
   "cell_type": "code",
   "execution_count": null,
   "metadata": {
    "collapsed": true
   },
   "outputs": [],
   "source": [
    "from numpy import *\n",
    "from matplotlib.pyplot import *\n",
    "from mpl_toolkits.mplot3d import axes3d"
   ]
  },
  {
   "cell_type": "code",
   "execution_count": null,
   "metadata": {
    "collapsed": true
   },
   "outputs": [],
   "source": [
    "%matplotlib notebook"
   ]
  },
  {
   "cell_type": "markdown",
   "metadata": {},
   "source": [
    "Your next goal is to get Python to calculate the pressure of one mole of an ideal gas and of a van der Waals gas of your choice at T=300 K and V=25 L. Modify the cell below appropriately to do this. You’ll know you’ve done these calculations right if you get pressures just under 1 atm. "
   ]
  },
  {
   "cell_type": "code",
   "execution_count": null,
   "metadata": {
    "collapsed": true
   },
   "outputs": [],
   "source": [
    "# Constants related to an ideal gas\n",
    "R = 0.082 # Liter-atm/mol-K\n",
    "V = 20 # Liters\n",
    "T = 250 # Kelvin\n",
    "n = 1 # moles\n",
    "\n",
    "# van der Waals constants\n",
    "a = 2.00\n",
    "b = 0.04\n",
    "\n",
    "# Get pressure of an ideal gas\n",
    "P = n*R*T/V\n",
    "print(\"Pressure of ideal gas = \", P, \"atm\")\n",
    "\n",
    "# Get pressure of a vdw gas\n",
    "Pvdw = n*R*T/(V-n*b)-a*n**2/V**2\n",
    "print(\"Pressure of vdw = \", Pvdw, \"atm\")\n",
    "\n",
    "# Get percent error (using Eq. 3 in the handout)\n",
    "Error = (P-Pvdw)/Pvdw*100\n",
    "print(\"%Error = \", Error)"
   ]
  },
  {
   "cell_type": "markdown",
   "metadata": {},
   "source": [
    "Next, you're going to generate some Boyle isotherms, P(V) for a given T. You'll need to specify the range of volumes you want to look at. Modify the code below so the volume ranges from 10 to 40 L. "
   ]
  },
  {
   "cell_type": "code",
   "execution_count": null,
   "metadata": {
    "collapsed": true
   },
   "outputs": [],
   "source": [
    "# Generate a range of volumes\n",
    "V_array = linspace(5,40)\n",
    "print(\"There are\", shape(V_array), \"points in V\") # shape tells you the length of the array\n",
    "print(V_array)\n"
   ]
  },
  {
   "cell_type": "markdown",
   "metadata": {},
   "source": [
    "Your next goal is to calculate and graph the Boyle isotherm of an ideal gas at this temperature (300K), for this range of volumes. You don't have to enter new values for the temperature or moles, since those values will carry over from the previous cell."
   ]
  },
  {
   "cell_type": "code",
   "execution_count": null,
   "metadata": {
    "collapsed": true
   },
   "outputs": [],
   "source": [
    "# Get pressure of an ideal gas\n",
    "P = n*R*T/V_array\n",
    "print(\"There are\", P.shape, \"points in P\")\n",
    "\n",
    "# Open up a figure window\n",
    "figure()\n",
    "\n",
    "# Graph P(V)\n",
    "plot(V_array,P) # Plot the ideal gas Boyle isotherm\n",
    "xlabel('V (L)') # Label the x axis\n",
    "ylabel('P (atm)') # Label the y axis\n"
   ]
  },
  {
   "cell_type": "markdown",
   "metadata": {},
   "source": [
    "### Pause for Analysis: Sketch this graph in your notebook"
   ]
  },
  {
   "cell_type": "markdown",
   "metadata": {},
   "source": [
    "Now produce a Boyle isotherm of a van der Waals gas at the same temperature and range of volumes. Label your axes as before. "
   ]
  },
  {
   "cell_type": "code",
   "execution_count": null,
   "metadata": {
    "collapsed": true
   },
   "outputs": [],
   "source": [
    "# Get pressure of a vdw gas\n",
    "\n",
    "# Open up a figure window\n",
    "\n",
    "# Graph Pvdw(V)\n"
   ]
  },
  {
   "cell_type": "markdown",
   "metadata": {},
   "source": [
    "You'll notice that these two graphs are pretty similar, but they're not identical. To explore this, print the %error in the pressure (like what you did in the 1st cell, but now you should see results for a range of volumes). "
   ]
  },
  {
   "cell_type": "code",
   "execution_count": null,
   "metadata": {
    "collapsed": true
   },
   "outputs": [],
   "source": [
    "# Get the %error\n",
    "\n",
    "# Print the %error\n"
   ]
  },
  {
   "cell_type": "markdown",
   "metadata": {},
   "source": [
    "### Pause for Analysis: Does the error get worse at high volume, or low volume? What is the physical cause of this trend? What is the mathematical cause?"
   ]
  },
  {
   "cell_type": "markdown",
   "metadata": {},
   "source": [
    "Next, generate grids of volume and temperature (this defines the state space). Modify the code below so that the temperature ranges from 250 to 350 K, and the volume ranges from 10 to 40 L."
   ]
  },
  {
   "cell_type": "code",
   "execution_count": null,
   "metadata": {
    "collapsed": true
   },
   "outputs": [],
   "source": [
    "V_array = linspace(5,40)\n",
    "T_array = linspace(200,300)\n",
    "V_grid, T_grid = meshgrid(V_array,T_array) # Make a grid covering every V & T combination \n",
    "print(\"There are\", shape(V_grid), \"points in V\")\n",
    "print(\"There are\", shape(T_grid), \"points in T\")"
   ]
  },
  {
   "cell_type": "markdown",
   "metadata": {},
   "source": [
    "Now calculate and graph the thermodynamic surface $P(V,T)$ for an ideal gas"
   ]
  },
  {
   "cell_type": "code",
   "execution_count": null,
   "metadata": {
    "collapsed": true
   },
   "outputs": [],
   "source": [
    "# Get pressure grid of ideal gas for every point on the grid\n",
    "P = n*R*T_grid/V_grid\n",
    "print(\"There are\", shape(P), \"points in P\")\n",
    "print(P)\n",
    "\n",
    "# Open up a 3d figure window\n",
    "ax = figure().gca(projection='3d') # Set up a three dimensional graphics window \n",
    "\n",
    "# Graph the pressure\n",
    "ax.plot_surface(V_grid, T_grid, P) # Make the mesh plot P(V,T)\n",
    "ax.set_xlabel('V (L)') # Label axes\n",
    "ax.set_ylabel('T (K)')\n",
    "ax.set_zlabel('P (atm)')"
   ]
  },
  {
   "cell_type": "markdown",
   "metadata": {},
   "source": [
    "### Pause for Analysis: Make a sketch of your thermodynamic surface from in your lab notebook, with appropriate annotation as to how the _Boyle-Hooke law_ and the _Gay-Lussac law_ are clearly in evidence. "
   ]
  },
  {
   "cell_type": "markdown",
   "metadata": {},
   "source": [
    "Next, do a similar thing (make a thermodynamic surface) for a van der Waals gas."
   ]
  },
  {
   "cell_type": "code",
   "execution_count": null,
   "metadata": {
    "collapsed": true
   },
   "outputs": [],
   "source": [
    "# Get pressure grid of van der Waals gas (Pvdw) for every point on the grid\n",
    "\n",
    "# Open up a 3d figure window\n",
    "\n",
    "# Graph the pressure\n"
   ]
  },
  {
   "cell_type": "markdown",
   "metadata": {},
   "source": [
    "You’ll notice that the thermodynamic surfaces for an ideal gas and a vdw gas are barely distinguishable from each other. For that reason, it's useful to look at the % difference between them. "
   ]
  },
  {
   "cell_type": "code",
   "execution_count": null,
   "metadata": {
    "collapsed": true
   },
   "outputs": [],
   "source": [
    "# Calculate the %error\n",
    "\n",
    "# Open up a 3d figure window\n",
    "\n",
    "# Graph the error\n"
   ]
  },
  {
   "cell_type": "markdown",
   "metadata": {},
   "source": [
    "### Pause for Analysis: Based on the graph of the error you just made, summarise any trends in the error with respect to increasing/decreasing volume and temperature."
   ]
  },
  {
   "cell_type": "markdown",
   "metadata": {},
   "source": [
    "## Post-class activities:   \n",
    "In your lab notebook, enter the following:\n",
    "\n",
    "1. Your responses to the \"pause for analysis\" items.\n",
    "2. In this activity, you've considered _mathematical_ as well as _physical_ origins of non-ideality of a real gas. Write a paragraph describing which form of thinking you prefer, and why (or some equivalent interesting paragraph). \n",
    "3. In this activity you've considered _graphical_ representations of state functions as well as _algebraic_ representations (like $P=nRT/V$). Write a paragraph describing which kind of representation you prefer (or some equivalent).  \n",
    "\n",
    "We'll also be looking at your python notebook (the .ipynb file) on the CGI server. We will be looking for evidence of your mastery of the computational methods embedded in the exercise: whether the notebook is complete and your results accurate."
   ]
  }
 ],
 "metadata": {
  "kernelspec": {
   "display_name": "Python 3",
   "language": "python",
   "name": "python3"
  },
  "language_info": {
   "codemirror_mode": {
    "name": "ipython",
    "version": 3
   },
   "file_extension": ".py",
   "mimetype": "text/x-python",
   "name": "python",
   "nbconvert_exporter": "python",
   "pygments_lexer": "ipython3",
   "version": "3.6.5"
  }
 },
 "nbformat": 4,
 "nbformat_minor": 1
}
