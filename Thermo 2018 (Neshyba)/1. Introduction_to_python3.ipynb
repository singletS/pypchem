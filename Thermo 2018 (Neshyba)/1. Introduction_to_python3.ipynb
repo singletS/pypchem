{
 "cells": [
  {
   "cell_type": "markdown",
   "metadata": {},
   "source": [
    "### Computational Guided Inquiry for PChem (Neshyba & Guasco, 2018)\n",
    "\n",
    "# Getting Started in Python\n",
    "\n",
    "## Objective: Learn basics of Python programming ##\n"
   ]
  },
  {
   "cell_type": "markdown",
   "metadata": {},
   "source": [
    "## Pre-class activities:\n",
    "\n",
    "Read the Introduction below, and prepare your lab notebook (the physical notebook) with a table of contents and a starting page for this activity. Don't forget to bring this notebook with you during the in-class activity."
   ]
  },
  {
   "cell_type": "markdown",
   "metadata": {},
   "source": [
    "## Introduction\n",
    "\n",
    "Python is a widely used, open source programming language developed by Guido van Rossum. It was first released in 1991. Python is a great language for beginner programmers because it was designed with the newcomer in mind. Python was designed to be readable and it has a simple and consistent syntax. Additionally, Python has a very extensive section of mathematical and scientific libraries. These libraries contain code that has already been written to perform specific tasks so you just need to know how to call the library rather than write the code itself. Lastly, Python is free.\n",
    "\n",
    "\n",
    "Here, the basic plan is for you to get used to some of the basics of python usage: how to use it as a fancy calculator, how to make simple plots, and how to debug when you get an error.\n"
   ]
  },
  {
   "cell_type": "markdown",
   "metadata": {},
   "source": [
    "## In-class activities  \n",
    "On some computers, you'll need to bring in the libraries for numerical operations and graphics. That's what the next cell does. Click in the box, and press shift-enter to execute it."
   ]
  },
  {
   "cell_type": "code",
<<<<<<< Updated upstream
   "execution_count": null,
   "metadata": {
    "collapsed": true
   },
=======
   "execution_count": 1,
   "metadata": {},
>>>>>>> Stashed changes
   "outputs": [],
   "source": [
    "# Bring in numpy(for numerical operations) and matplotlib.pyplot (for graphics)\n",
    "from numpy import *\n",
    "from matplotlib.pyplot import *"
   ]
  },
  {
   "cell_type": "code",
<<<<<<< Updated upstream
   "execution_count": null,
   "metadata": {
    "collapsed": true
   },
=======
   "execution_count": 2,
   "metadata": {},
>>>>>>> Stashed changes
   "outputs": [],
   "source": [
    "%matplotlib notebook"
   ]
  },
  {
   "cell_type": "markdown",
   "metadata": {},
   "source": [
    "The first program that many people learn to write is a \"Hello, world!\" program. The purpose of this program is to get your program to output the phrase Hello, world! The code cell below contains the code to successfully run such a program in Python. You can run this cell by pressing Shift and Enter at the same time."
   ]
  },
  {
   "cell_type": "code",
   "execution_count": 3,
   "metadata": {},
   "outputs": [
    {
     "name": "stdout",
     "output_type": "stream",
     "text": [
      "Hello, world!\n"
     ]
    }
   ],
   "source": [
    "print(\"Hello, world!\")"
   ]
  },
  {
   "cell_type": "markdown",
   "metadata": {},
   "source": [
    "As you can see, in Python this is a relatively simple task. We wanted to print a statement (Hello, world!) and we only needed to type the word print and then put the phrase in quotation marks. The quotation marks are how you make a <em>string</em> in Python. A string is text data as opposed to numerical data.  \n",
    "\n",
    "Use the code cell below to output the following two statements (remember you need to make the text a string):  \n",
    "\n",
    "My name is first name last name.  (Make sure to actually put in your first and last names)  \n",
    "\n",
    "I am excited to learn Physical Chemistry. "
   ]
  },
  {
   "cell_type": "code",
<<<<<<< Updated upstream
   "execution_count": null,
   "metadata": {
    "collapsed": true
   },
   "outputs": [],
   "source": []
=======
   "execution_count": 4,
   "metadata": {},
   "outputs": [
    {
     "name": "stdout",
     "output_type": "stream",
     "text": [
      "my name is steven\n"
     ]
    }
   ],
   "source": [
    "print(\"my name is steven\")"
   ]
>>>>>>> Stashed changes
  },
  {
   "cell_type": "markdown",
   "metadata": {},
   "source": [
    "As mentioned above, strings are the data type used for text. When we want to work with numbers, we will use either integers or floating point numbers. Integers are whole numbers. Floating point numbers are ones where the number of figures to the right of the decimal varies based upon the value of the floating point number. If a whole number is written with no decimal point then Python treats it as an integer. If a number is written with a decimal point then Python treats it as a floating point number. We can easily perform the 4 basic mathematical operations using Python. "
   ]
  },
  {
   "cell_type": "code",
   "execution_count": null,
   "metadata": {},
   "outputs": [],
   "source": [
    "# Addition\n",
    "print(5 + 10) #integer\n",
    "print(5.0 + 10.0) #floating point"
   ]
  },
  {
   "cell_type": "markdown",
   "metadata": {},
   "source": [
    "A few things to note about the cell above: \n",
    "<br>\n",
    "<br>\n",
    "1) We have used the pound symbol (#) a few times in the cell. This symbol is used to indicate a _comment_. Comments are used to annotate your code to make them easier to read and understand. I have placed the comment Addition at the top so that you knew I would be performing that operation in that cell. I have also annotated the next two lines to indicate that I was adding integers and floating point numbers in the 2nd and 3rd lines, respectively. When you use the pound symbol, everything to the right of it is ignored by Python. If I hadn't used the pound symbols and had instead just tried to write Addition, integer, or floating point, Python would have given me an error.\n",
    "<br>\n",
    "<br>\n",
    "2) We got two different answers when using integer and floating point data types. When we summed the two integers 5 and 10, we got 15. When we summed the two floating point numbers 5.0 and 10.0, we got 15.0. Python will output integers as if you perform a mathematical operation on only integers. Python will output floating point numbers if you have at least one floating point number in your calculation.\n",
    "<br>\n",
    "<br>\n",
    "3) I placed a space before and after the plus signs. I would get the exact same answers if the spaces weren't there, but the extra spaces help with code readability.\n"
   ]
  },
  {
   "cell_type": "code",
   "execution_count": null,
   "metadata": {},
   "outputs": [],
   "source": [
    "#Subtraction\n",
    "print(10 - 5)"
   ]
  },
  {
   "cell_type": "code",
   "execution_count": null,
   "metadata": {},
   "outputs": [],
   "source": [
    "#Multiplication\n",
    "print(5 * 9)"
   ]
  },
  {
   "cell_type": "code",
   "execution_count": null,
   "metadata": {},
   "outputs": [],
   "source": [
    "#Division\n",
    "print(5 / 2)"
   ]
  },
  {
   "cell_type": "markdown",
   "metadata": {},
   "source": [
    "It should be noted that Python follows the standard order of operations that you learned in grade school. So be careful when writing equations with multiple steps. For instance, the example below shows what can go wrong if things are placed in the wrong order. You might anticipate that the following equations all do the same thing, but, as we can see, that is not the case."
   ]
  },
  {
   "cell_type": "code",
   "execution_count": null,
   "metadata": {},
   "outputs": [],
   "source": [
    "print(9.0 * 8.0 - 13.0)\n",
    "print(9.0 * (8.0 - 13.0))\n",
    "print(8.0 - 13.0 * 9)\n",
    "print((8.0 - 13.0) * 9)"
   ]
  },
  {
   "cell_type": "markdown",
   "metadata": {},
   "source": [
    "In the following cell calculate the following: $\\dfrac{3.0}{5.0}-\\left(\\dfrac{19.0}{20.0}\\times4\\right)$. Check with a neighbor to see if you got the same thing."
   ]
  },
  {
   "cell_type": "code",
   "execution_count": null,
   "metadata": {
    "collapsed": true
   },
   "outputs": [],
   "source": [
    "\n"
   ]
  },
  {
   "cell_type": "markdown",
   "metadata": {},
   "source": [
    "We can also use exponents quite easily, though the syntax might be different than what you are used to."
   ]
  },
  {
   "cell_type": "code",
   "execution_count": null,
   "metadata": {},
   "outputs": [],
   "source": [
    "print(5**2) #Double asterisks (*) are used to represent an exponent"
   ]
  },
  {
   "cell_type": "markdown",
   "metadata": {},
   "source": [
    "Python can also make use of variables for computation. A variable can be as many characters long as you want; they can be as simple as single letters, like x or y, or as long as complicated phrases like Atkins_and_dePaula_wrote_my_PChem_textbook. Variables cannot have spaces in their names so dePaula is an acceptable variable, but de Paula is not. Variables are case-sensitive, so x is a different variable than X. There are a number of words, such as print, that Python has reserved for special purposes; you cannot name your variable any of these reserved words. You will know you have typed a reserved word because it will appear green in your Notebook. Once a variable is assigned a value, it retains that value throughout a session until it is changed, thus you can use it in other cells."
   ]
  },
  {
   "cell_type": "code",
   "execution_count": null,
   "metadata": {},
   "outputs": [],
   "source": [
    "x = 5\n",
    "X = 10\n",
    "print(x, X) #I can print two separate things by separating them by a comma"
   ]
  },
  {
   "cell_type": "markdown",
   "metadata": {},
   "source": [
    "These variables are called \"scalars\" because there is just one value associated with them. Here are some more scalars: "
   ]
  },
  {
   "cell_type": "code",
   "execution_count": null,
   "metadata": {},
   "outputs": [],
   "source": [
    "apples = 10\n",
    "bananas = 8\n",
    "total_fruit = apples + bananas\n",
    "\n",
    "print(\"There are\", total_fruit, \"pieces of fruit in the basket.\")"
   ]
  },
  {
   "cell_type": "markdown",
   "metadata": {},
   "source": [
    "As can be seen above, you can print strings and the values of variables together in a single line. As a reminder, when you use print with a string you will get the exact text back from Python, when you use print with a variable you will get the value of that variable.  \n",
    "\n",
    "In the cell below you should write a code that calculates the average height in inches of you and one other person in the class. To do this I would like you to create three variables, two for each of the heights and one for the average. To display your average I would like you to print a statement that reports the average height in a grammatically correct sentence.  \n",
    "\n",
    "By the way, five feet = 60 inches, six feet = 72 inches."
   ]
  },
  {
   "cell_type": "code",
   "execution_count": null,
   "metadata": {
    "collapsed": true
   },
   "outputs": [],
   "source": [
    "# Specify your height, as a variable (e.g., me=71.0)\n",
    "\n",
    "# Now specify somebody else's height, also as a variable (e.g., friend=66.0)\n",
    "\n",
    "# Now get the average as a third variable\n",
    "\n",
    "# And print the third variable in a sentence, like the cell above.\n"
   ]
  },
  {
   "cell_type": "markdown",
   "metadata": {},
   "source": [
    "Next, use the cell below to compute the value of the polynomial  $y = ax^3 + bx^2 + cx+d$ at $x = 2$ using $a = 3$, $b = 1$, $c = -3$, and $d = -5$. Then print the value of the variable $y$."
   ]
  },
  {
   "cell_type": "code",
   "execution_count": null,
   "metadata": {
    "collapsed": true
   },
   "outputs": [],
   "source": [
    "# Assign the constants a-d\n",
    "a = 3\n",
    "b = 1\n",
    "c = -3\n",
    "d = -5\n",
    "\n",
    "# Assign a value to x\n",
    "\n",
    "# Calculate y\n",
    "\n",
    "# Print y"
   ]
  },
  {
   "cell_type": "markdown",
   "metadata": {},
   "source": [
    "So far we have discussed variables just having a single value, but often times we want to repeatedly perform a calculation on an array of numbers. An example of this might be if we wanted to plot the polynomial from the previous cell. Suppose we wanted our plot to cover the range $x = -5$ to $x = 5$. We would need to calculate $y$ at a sufficient number of points (~20) for our plot to be smooth. It would be tedious to input 20 different values of $x$ and perform the calculation one-by-one. Luckily, Python has a few different functions that we can use to create numerical arrays. The one that we will use most frequently is linspace and the cell below introduces this function."
   ]
  },
  {
   "cell_type": "code",
   "execution_count": null,
   "metadata": {},
   "outputs": [],
   "source": [
    "# Generate an array (sequence of points) between -5 and 5; the number of points is 50 by default\n",
    "x = linspace(-5,5)\n",
    "print(x)\n",
    "\n",
    "# This generates 10 points between -5 and 5\n",
    "x_10 = linspace(-5,5,10)\n",
    "print(x_10)"
   ]
  },
  {
   "cell_type": "markdown",
   "metadata": {},
   "source": [
    "#### Pause for Analysis: Explain the difference between an array and a scalar. Which data type (array or scalar) does the linspace function make?"
   ]
  },
  {
   "cell_type": "markdown",
   "metadata": {},
   "source": [
    "In the cell below create a new variable called x_10 which covers a range from -3 to 4 and has 10 points. Verify that it covers the expected range and does in fact have 10 points by printing it. "
   ]
  },
  {
   "cell_type": "code",
   "execution_count": null,
   "metadata": {
    "collapsed": true
   },
   "outputs": [],
   "source": [
    "\n"
   ]
  },
  {
   "cell_type": "markdown",
   "metadata": {},
   "source": [
    "For a variable like x_10, which has a limited number of points, it is easy enough to print it and look at each of them. However, we will sometimes use arrays that have many more points, but we will want to verify that it has the correct number of points. Luckily, Python has a function called _shape_ that will tell us the dimensions of an array. The cell below uses shape to prove that x_10 is in fact a column of 10 numbers. Use shape to prove that the variable $x$ contains a column of 50 numbers."
   ]
  },
  {
   "cell_type": "code",
   "execution_count": null,
   "metadata": {},
   "outputs": [],
   "source": [
    "# This prints the shape of variables x_10 and x\n",
    "print(shape(x_10))\n",
    "print(shape(x))"
   ]
  },
  {
   "cell_type": "markdown",
   "metadata": {},
   "source": [
    "Here's something cool: when you use an array in an algebraic expression, the resulting variable is also an array, of the same length! The cell below calculates $y$ algebraically from $x$. Remember, you have already defined the variables $a$, $b$, $c$, and $d$, so you won't need to redefine them here. "
   ]
  },
  {
   "cell_type": "code",
   "execution_count": null,
   "metadata": {
    "collapsed": true
   },
   "outputs": [],
   "source": [
    "y = a*x**3 + b*x**2 + c*x + d"
   ]
  },
  {
   "cell_type": "markdown",
   "metadata": {},
   "source": [
    "Now, to test you skill. In the cell below, use the shape function to find the length of your new array $y$."
   ]
  },
  {
   "cell_type": "code",
   "execution_count": null,
   "metadata": {
    "collapsed": true
   },
   "outputs": [],
   "source": []
  },
  {
   "cell_type": "markdown",
   "metadata": {},
   "source": [
    "We got started on this endeavor of making arrays because we wanted to plot $y = ax^3 + bx^2 + cx + d$ from $x = -5$ to $x = 5$. Python has a function, conveniently called plot, which makes 2-D plots. The basic syntax of the plot function is (x,y,formatstring). So the first argument is for the horizontal axis, the second argument is for the vertical axis, and the formatstring argument will let you format your plot. For instance, if you want red circle markers you would type 'ro'. The cell below plots $y = ax^3 + bx^2 + cx + d$ from $x = -5$ to $x = 5$ as a magenta dash-dot line, and labels the x and y axes. Try it!  \n",
    "\n",
    "After you've plotted it, play around with the pan and zoom buttons. "
   ]
  },
  {
   "cell_type": "code",
   "execution_count": null,
   "metadata": {},
   "outputs": [],
   "source": [
    "# This initializes the plot window\n",
    "figure()\n",
    "\n",
    "# This plots y as a function of x\n",
    "plot(x,y,'m-.')\n",
    "xlabel('this is the x-axis')\n",
    "ylabel('y')"
   ]
  },
  {
   "cell_type": "markdown",
   "metadata": {},
   "source": [
    "You have lots of other built-in functions available in python. One is the exponent function, which can take as an argument either a number, a variable, or even a formula!"
   ]
  },
  {
   "cell_type": "code",
   "execution_count": null,
   "metadata": {},
   "outputs": [],
   "source": [
    "print(\"e^5 is\", exp(5))\n",
    "print(\"e^x is\", exp(x))"
   ]
  },
  {
   "cell_type": "markdown",
   "metadata": {},
   "source": [
    "Now, to test you skill. In the cell below, calculate and plot $y = 4e^{-x ^{2}}$ from $x = -3$ to $x = 3$. To make sure your curve is smooth use at least 100 points. Label your axes as x-axis and y-axis. Add axis labels using the functions xlabel and ylabel."
   ]
  },
  {
   "cell_type": "code",
   "execution_count": null,
   "metadata": {},
   "outputs": [],
   "source": [
    "# Initialize the plot window\n",
    "figure()\n",
    "\n",
    "# Calculate a new x-array from -3 to 3, with 100 points\n",
    "\n",
    "# Calculate a new y-array \n",
    "\n",
    "# Plot y as a function of x\n",
    "\n",
    "# Label the x and y axes\n"
   ]
  },
  {
   "cell_type": "markdown",
   "metadata": {},
   "source": [
    "The last topic we will cover are error messages. Perhaps you have already encountered these above. If you haven't already, you will at some point in the course. Everyone makes mistakes while programming. The key is to learn how to understand the error messages that Python gives and use that information to fix your code. The cells below each contain at least one error. Run them first as they are written to see the error message and then go back and fix the cell."
   ]
  },
  {
   "cell_type": "code",
   "execution_count": null,
   "metadata": {},
   "outputs": [],
   "source": [
    "j = i**2\n",
    "i = linspace(-3,3)"
   ]
  },
  {
   "cell_type": "code",
   "execution_count": null,
   "metadata": {},
   "outputs": [],
   "source": [
    "First name = \"Donald\"\n",
    "Last_name = \"Trump\"\n",
    "print(\"The President of the United States of America is\", First_nmae, Last_name)"
   ]
  },
  {
   "cell_type": "code",
   "execution_count": null,
   "metadata": {},
   "outputs": [],
   "source": [
    "print(I am so glad I am learning to program using Python.)"
   ]
  },
  {
   "cell_type": "code",
   "execution_count": null,
   "metadata": {},
   "outputs": [],
   "source": [
    "a = 3\n",
    "b = -4\n",
    "x = linspace(0,1.5)\n",
    "f_x = a*exp(bx)\n",
    "figure()\n",
    "plot(x,f_x)"
   ]
  },
  {
   "cell_type": "code",
   "execution_count": null,
   "metadata": {},
   "outputs": [],
   "source": [
    "n = linespace(-3,3)\n",
    "m = n**2\n",
    "figure(4)\n",
    "plot(N,M)"
   ]
  },
  {
   "cell_type": "code",
   "execution_count": null,
   "metadata": {},
   "outputs": [],
   "source": [
    "cars = 100.0\n",
    "space_in_a_car = 4.0\n",
    "drivers = 30\n",
    "passengers = 90\n",
    "cars_not_driven = cars - drivers\n",
    "cars_driven = drivers\n",
    "carpool capacity = cars driven * space_in_a_car\n",
    "average_passengers_per_car = passengers / cars_driven\n",
    "\n",
    "print(\"We have\", passengers, \"to carpool today.)\n",
    "print(\"We need to put about\", average_passengers_per_car, \"in each car.)"
   ]
  },
  {
   "cell_type": "markdown",
   "metadata": {},
   "source": [
    "Double-checking your work ... When you're at the end of a notebook that involved a lot of editing, it's often a good idea to double-check that nothing was left out. One way to do that is to use the drop-down item \"Cell/Run All\". Do that now, and look over the entire notebook to verify that there were no errors."
   ]
  },
  {
   "cell_type": "markdown",
   "metadata": {},
   "source": [
    "## Post-class reflection:  \n",
    "\n",
    "In your lab notebook, write a brief definition of the functions <em>print, linspace, shape, plot, xlabel, and ylabel</em>, and give examples with proper python syntax. Also write down your responses in the \"pause for analysis\" sections. I will be looking for evidence of thoughtful engagement in these entries.\n",
    "\n",
    "I'll also be looking at your python notebook (the .ipynb file) on the CGI server. I will be looking for evidence of your mastery of the computational methods embedded in the exercise: whether the notebook is complete and your results accurate.\n"
   ]
  }
 ],
 "metadata": {
  "kernelspec": {
   "display_name": "Python 3",
   "language": "python",
   "name": "python3"
  },
  "language_info": {
   "codemirror_mode": {
    "name": "ipython",
    "version": 3
   },
   "file_extension": ".py",
   "mimetype": "text/x-python",
   "name": "python",
   "nbconvert_exporter": "python",
   "pygments_lexer": "ipython3",
   "version": "3.6.5"
  }
 },
 "nbformat": 4,
 "nbformat_minor": 1
}
